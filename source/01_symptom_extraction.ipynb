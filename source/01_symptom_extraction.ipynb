{
 "cells": [
  {
   "cell_type": "code",
   "execution_count": 2,
   "id": "eaca9fcc",
   "metadata": {},
   "outputs": [],
   "source": [
    "import concurrent.futures\n",
    "import logging\n",
    "from threading import Semaphore\n",
    "import os\n",
    "import pandas as pd\n",
    "from pymetamap import MetaMap\n",
    "from nltk.sentiment import SentimentAnalyzer\n",
    "from nltk.sentiment.util import *\n",
    "from datetime import datetime"
   ]
  },
  {
   "cell_type": "markdown",
   "id": "98491dbb",
   "metadata": {},
   "source": [
    "# Symptom Extraction using Metamap\n",
    "\n",
    "This notebook implements the BiLSTM model which will take TF-IDF based symptom representation and Word2Vec based symptom representation and predicts diagnoses codes.\n",
    "\n",
    "---\n",
    "\n",
    "- Input : symptom_disease_dict_{RUN_TAG}.json - Contains HADM_ID to Symptom text and Diagnosis mapping as json object\n",
    "- Input : icd9_dict_{RUN_TAG}.json - Contains ICD9 Codes of TOP N Diagnoses\n",
    "- Input : weight_i_j_norm{tag}.csv - TF-IDF weights for symptom representation"
   ]
  },
  {
   "cell_type": "code",
   "execution_count": 8,
   "id": "2bef271c",
   "metadata": {},
   "outputs": [
    {
     "name": "stdout",
     "output_type": "stream",
     "text": [
      "Current working directory : /Users/vijaymi/Studies/CS-598-DL4Health/Project/135-Disease-Inference-Method/disease_pred_using_bilstm/source\n"
     ]
    }
   ],
   "source": [
    "cwd = os.getcwd()\n",
    "print(f\"Current working directory : {cwd}\")\n",
    "# Metamap needs to be installed locally for this to work\n",
    "METAMAP_PATH = cwd + \"/../../public_mm\"\n",
    "\n",
    "# Data is not stored as part of project because of its restricted use.\n",
    "data_dir = cwd + \"/../../data/\"\n",
    "NOTES_FILE = data_dir + 'filtered_notes.csv'\n",
    "DIAG_FILE = data_dir +  'DIAGNOSES_ICD.csv'\n",
    "DIAG_DICT_FILE = data_dir + 'D_ICD_DIAGNOSES.csv'\n",
    "SYMPTOMS_FILE = \"Symptoms.txt\"\n",
    "mm = MetaMap.get_instance(METAMAP_PATH + '/bin/metamap18')\n",
    "IRRELEVANT_SECTIONS = [\n",
    "    \"SOCIAL HISTORY:\",\n",
    "    \"MEDICATION ON ADMISSION:\",\n",
    "    \"DISCHARGE DIAGNOSIS:\",\n",
    "    \"ADMISSION DATE\"\n",
    "]"
   ]
  },
  {
   "cell_type": "markdown",
   "id": "81bb6aab",
   "metadata": {},
   "source": [
    "### Load Data from MIMIC-III dataset"
   ]
  },
  {
   "cell_type": "code",
   "execution_count": 11,
   "id": "4f3b995d",
   "metadata": {},
   "outputs": [],
   "source": [
    "def load_data():\n",
    "    notes_data = pd.read_csv(NOTES_FILE)\n",
    "    print(notes_data.head())\n",
    "    diag_codes = pd.read_csv(DIAG_FILE)\n",
    "    diag_dict = pd.read_csv(DIAG_DICT_FILE)\n",
    "    return notes_data, diag_codes, diag_dict"
   ]
  },
  {
   "cell_type": "code",
   "execution_count": 12,
   "id": "9fb49690",
   "metadata": {},
   "outputs": [
    {
     "name": "stdout",
     "output_type": "stream",
     "text": [
      "  INDEX ROW_ID SUBJECT_ID HADM_ID CHARTDATE CHARTTIME STORETIME  \\\n",
      "0     0    174      22532  167853    8/4/51       NaN       NaN   \n",
      "1     1    175      13702  107527   6/14/18       NaN       NaN   \n",
      "2     2    176      13702  167118   5/25/19       NaN       NaN   \n",
      "3     3    177      13702  196489   8/18/24       NaN       NaN   \n",
      "4     4    178      26880  135453   3/25/62       NaN       NaN   \n",
      "\n",
      "            CATEGORY DESCRIPTION  CGID  ISERROR  \\\n",
      "0  Discharge summary      Report   NaN      NaN   \n",
      "1  Discharge summary      Report   NaN      NaN   \n",
      "2  Discharge summary      Report   NaN      NaN   \n",
      "3  Discharge summary      Report   NaN      NaN   \n",
      "4  Discharge summary      Report   NaN      NaN   \n",
      "\n",
      "                                                TEXT  \n",
      "0  Admission Date:  [**2151-7-16**]       Dischar...  \n",
      "1  Admission Date:  [**2118-6-2**]       Discharg...  \n",
      "2  Admission Date:  [**2119-5-4**]              D...  \n",
      "3  Admission Date:  [**2124-7-21**]              ...  \n",
      "4  Admission Date:  [**2162-3-3**]              D...  \n"
     ]
    }
   ],
   "source": [
    "notes_data, diag_codes, diag_dict = load_data()"
   ]
  }
 ],
 "metadata": {
  "kernelspec": {
   "display_name": "Python 3 (ipykernel)",
   "language": "python",
   "name": "python3"
  },
  "language_info": {
   "codemirror_mode": {
    "name": "ipython",
    "version": 3
   },
   "file_extension": ".py",
   "mimetype": "text/x-python",
   "name": "python",
   "nbconvert_exporter": "python",
   "pygments_lexer": "ipython3",
   "version": "3.8.6"
  }
 },
 "nbformat": 4,
 "nbformat_minor": 5
}
