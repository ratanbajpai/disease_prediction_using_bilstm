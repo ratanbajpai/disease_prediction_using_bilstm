{
 "cells": [
  {
   "cell_type": "code",
   "execution_count": 2,
   "id": "a7de3d11",
   "metadata": {},
   "outputs": [],
   "source": [
    "import concurrent.futures\n",
    "import logging\n",
    "from threading import Semaphore\n",
    "import os\n",
    "import pandas as pd\n",
    "from pymetamap import MetaMap\n",
    "from nltk.sentiment import SentimentAnalyzer\n",
    "from nltk.sentiment.util import *\n",
    "from datetime import datetime"
   ]
  },
  {
   "cell_type": "markdown",
   "id": "20b0d686",
   "metadata": {},
   "source": [
    "# Symptom Extraction using Metamap\n",
    "\n",
    "This notebook implements symptom extraction functionality from raw discharge summary notes.\n",
    "\n",
    "Note: We didn't use jupyter notebook for this processing as Metamap symptom extraction process requires significant processing power. We executed symptom extraction process on google cloud (it took ~2000 cpu hours to process). pre_process_notes_multi.py python script was used for actual extraction. However, this notebook uses most of the same code but doesn't do multi-threading, etc.\n",
    "\n",
    "---\n",
    "\n",
    "- Input : NOTEEVENTS.csv - MIMIC-III dataset file containing clinical notes\n",
    "- Output : symptoms.csv - Contains symptoms extracted from discharge summary using Metamap (used in 02 - data preparation)\n",
    "- Output : discharge_summary.csv - Contains filtered discharge summary records from NOTEEVENTS.csv (used in 04 - word2vev training)"
   ]
  },
  {
   "cell_type": "code",
   "execution_count": 63,
   "id": "dd33bdb7",
   "metadata": {},
   "outputs": [
    {
     "name": "stdout",
     "output_type": "stream",
     "text": [
      "Current working directory : /Users/vijaymi/Studies/CS-598-DL4Health/Project/135-Disease-Inference-Method/disease_pred_using_bilstm/source\n"
     ]
    }
   ],
   "source": [
    "cwd = os.getcwd()\n",
    "print(f\"Current working directory : {cwd}\")\n",
    "# Metamap needs to be installed locally for this to work\n",
    "METAMAP_PATH = cwd + \"/../../public_mm\"\n",
    "\n",
    "# Data is not stored as part of project because of its restricted use.\n",
    "data_dir = cwd + \"/../../data/\"\n",
    "RUN_TAG = \"_v2.0\"\n",
    "NOTEEVENTS_FILE_PATH = data_dir + 'NOTEEVENTS.csv'\n",
    "DISCHARGE_SUMMARY = data_dir + f\"discharge_summary_{RUN_TAG}.csv\"\n",
    "NOTES_FILE = data_dir + 'filtered_notes.csv'\n",
    "SYMPTOMS_FILE = data_dir + f\"symptoms_{RUN_TAG}.csv\"\n",
    "mm = MetaMap.get_instance(METAMAP_PATH + '/bin/metamap18')\n",
    "IRRELEVANT_SECTIONS = [\n",
    "    \"SOCIAL HISTORY:\",\n",
    "    \"MEDICATION ON ADMISSION:\",\n",
    "    \"DISCHARGE DIAGNOSIS:\",\n",
    "    \"ADMISSION DATE\"\n",
    "]"
   ]
  },
  {
   "cell_type": "markdown",
   "id": "e5dcacc6",
   "metadata": {},
   "source": [
    "### Load Data from MIMIC-III dataset"
   ]
  },
  {
   "cell_type": "code",
   "execution_count": 4,
   "id": "a1febbed",
   "metadata": {},
   "outputs": [
    {
     "name": "stderr",
     "output_type": "stream",
     "text": [
      "/Library/Frameworks/Python.framework/Versions/3.8/lib/python3.8/site-packages/IPython/core/interactiveshell.py:3441: DtypeWarning: Columns (4,5) have mixed types.Specify dtype option on import or set low_memory=False.\n",
      "  exec(code_obj, self.user_global_ns, self.user_ns)\n"
     ]
    },
    {
     "name": "stdout",
     "output_type": "stream",
     "text": [
      "Number of notes:  2083180\n",
      "Number of notes after filtering duplicates:  2083180\n"
     ]
    },
    {
     "data": {
      "text/html": [
       "<div>\n",
       "<style scoped>\n",
       "    .dataframe tbody tr th:only-of-type {\n",
       "        vertical-align: middle;\n",
       "    }\n",
       "\n",
       "    .dataframe tbody tr th {\n",
       "        vertical-align: top;\n",
       "    }\n",
       "\n",
       "    .dataframe thead th {\n",
       "        text-align: right;\n",
       "    }\n",
       "</style>\n",
       "<table border=\"1\" class=\"dataframe\">\n",
       "  <thead>\n",
       "    <tr style=\"text-align: right;\">\n",
       "      <th></th>\n",
       "      <th>ROW_ID</th>\n",
       "      <th>SUBJECT_ID</th>\n",
       "      <th>HADM_ID</th>\n",
       "      <th>CHARTDATE</th>\n",
       "      <th>CHARTTIME</th>\n",
       "      <th>STORETIME</th>\n",
       "      <th>CATEGORY</th>\n",
       "      <th>DESCRIPTION</th>\n",
       "      <th>CGID</th>\n",
       "      <th>ISERROR</th>\n",
       "      <th>TEXT</th>\n",
       "    </tr>\n",
       "  </thead>\n",
       "  <tbody>\n",
       "    <tr>\n",
       "      <th>0</th>\n",
       "      <td>174</td>\n",
       "      <td>22532</td>\n",
       "      <td>167853.0</td>\n",
       "      <td>2151-08-04</td>\n",
       "      <td>NaN</td>\n",
       "      <td>NaN</td>\n",
       "      <td>Discharge summary</td>\n",
       "      <td>Report</td>\n",
       "      <td>NaN</td>\n",
       "      <td>NaN</td>\n",
       "      <td>Admission Date:  [**2151-7-16**]       Dischar...</td>\n",
       "    </tr>\n",
       "    <tr>\n",
       "      <th>1</th>\n",
       "      <td>175</td>\n",
       "      <td>13702</td>\n",
       "      <td>107527.0</td>\n",
       "      <td>2118-06-14</td>\n",
       "      <td>NaN</td>\n",
       "      <td>NaN</td>\n",
       "      <td>Discharge summary</td>\n",
       "      <td>Report</td>\n",
       "      <td>NaN</td>\n",
       "      <td>NaN</td>\n",
       "      <td>Admission Date:  [**2118-6-2**]       Discharg...</td>\n",
       "    </tr>\n",
       "    <tr>\n",
       "      <th>2</th>\n",
       "      <td>176</td>\n",
       "      <td>13702</td>\n",
       "      <td>167118.0</td>\n",
       "      <td>2119-05-25</td>\n",
       "      <td>NaN</td>\n",
       "      <td>NaN</td>\n",
       "      <td>Discharge summary</td>\n",
       "      <td>Report</td>\n",
       "      <td>NaN</td>\n",
       "      <td>NaN</td>\n",
       "      <td>Admission Date:  [**2119-5-4**]              D...</td>\n",
       "    </tr>\n",
       "    <tr>\n",
       "      <th>3</th>\n",
       "      <td>177</td>\n",
       "      <td>13702</td>\n",
       "      <td>196489.0</td>\n",
       "      <td>2124-08-18</td>\n",
       "      <td>NaN</td>\n",
       "      <td>NaN</td>\n",
       "      <td>Discharge summary</td>\n",
       "      <td>Report</td>\n",
       "      <td>NaN</td>\n",
       "      <td>NaN</td>\n",
       "      <td>Admission Date:  [**2124-7-21**]              ...</td>\n",
       "    </tr>\n",
       "    <tr>\n",
       "      <th>4</th>\n",
       "      <td>178</td>\n",
       "      <td>26880</td>\n",
       "      <td>135453.0</td>\n",
       "      <td>2162-03-25</td>\n",
       "      <td>NaN</td>\n",
       "      <td>NaN</td>\n",
       "      <td>Discharge summary</td>\n",
       "      <td>Report</td>\n",
       "      <td>NaN</td>\n",
       "      <td>NaN</td>\n",
       "      <td>Admission Date:  [**2162-3-3**]              D...</td>\n",
       "    </tr>\n",
       "  </tbody>\n",
       "</table>\n",
       "</div>"
      ],
      "text/plain": [
       "   ROW_ID  SUBJECT_ID   HADM_ID   CHARTDATE CHARTTIME STORETIME  \\\n",
       "0     174       22532  167853.0  2151-08-04       NaN       NaN   \n",
       "1     175       13702  107527.0  2118-06-14       NaN       NaN   \n",
       "2     176       13702  167118.0  2119-05-25       NaN       NaN   \n",
       "3     177       13702  196489.0  2124-08-18       NaN       NaN   \n",
       "4     178       26880  135453.0  2162-03-25       NaN       NaN   \n",
       "\n",
       "            CATEGORY DESCRIPTION  CGID  ISERROR  \\\n",
       "0  Discharge summary      Report   NaN      NaN   \n",
       "1  Discharge summary      Report   NaN      NaN   \n",
       "2  Discharge summary      Report   NaN      NaN   \n",
       "3  Discharge summary      Report   NaN      NaN   \n",
       "4  Discharge summary      Report   NaN      NaN   \n",
       "\n",
       "                                                TEXT  \n",
       "0  Admission Date:  [**2151-7-16**]       Dischar...  \n",
       "1  Admission Date:  [**2118-6-2**]       Discharg...  \n",
       "2  Admission Date:  [**2119-5-4**]              D...  \n",
       "3  Admission Date:  [**2124-7-21**]              ...  \n",
       "4  Admission Date:  [**2162-3-3**]              D...  "
      ]
     },
     "execution_count": 4,
     "metadata": {},
     "output_type": "execute_result"
    }
   ],
   "source": [
    "# Read the NOTEEVENTS table\n",
    "notevents_df = pd.read_csv(NOTEEVENTS_FILE_PATH)\n",
    "print('Number of notes: ', len(notevents_df.index))\n",
    "\n",
    "# Drop any duplicates\n",
    "notevents_df = notevents_df.drop_duplicates()\n",
    "print('Number of notes after filtering duplicates: ', len(notevents_df.index))\n",
    "\n",
    "# NOTEVENTS file contains various types of notes. We will filter the notes that contain discharge\n",
    "# summaries.\n",
    "discharge_summaries_df = notevents_df[(notevents_df['CATEGORY'] == 'Discharge summary')]\n",
    "discharge_summaries_df.head(5)"
   ]
  },
  {
   "cell_type": "code",
   "execution_count": 5,
   "id": "6f880f84",
   "metadata": {},
   "outputs": [
    {
     "name": "stdout",
     "output_type": "stream",
     "text": [
      "Number of discharge summaries:  59652\n"
     ]
    }
   ],
   "source": [
    "# Save the discharge summaries data to a csv file so that we don't have to load the NOTEEVENTS table\n",
    "# for subsequent runs\n",
    "print('Number of discharge summaries: ', len(discharge_summaries_df.index))\n",
    "discharge_summaries_df.to_csv(DISCHARGE_SUMMARY, index=False)"
   ]
  },
  {
   "cell_type": "code",
   "execution_count": 6,
   "id": "1e29c80c",
   "metadata": {},
   "outputs": [],
   "source": [
    "def load_data():\n",
    "    notes_data = pd.read_csv(DISCHARGE_SUMMARY)\n",
    "    print(notes_data.head())\n",
    "    return notes_data"
   ]
  },
  {
   "cell_type": "code",
   "execution_count": 7,
   "id": "cd6938fd",
   "metadata": {},
   "outputs": [
    {
     "name": "stdout",
     "output_type": "stream",
     "text": [
      "   ROW_ID  SUBJECT_ID   HADM_ID   CHARTDATE  CHARTTIME  STORETIME  \\\n",
      "0     174       22532  167853.0  2151-08-04        NaN        NaN   \n",
      "1     175       13702  107527.0  2118-06-14        NaN        NaN   \n",
      "2     176       13702  167118.0  2119-05-25        NaN        NaN   \n",
      "3     177       13702  196489.0  2124-08-18        NaN        NaN   \n",
      "4     178       26880  135453.0  2162-03-25        NaN        NaN   \n",
      "\n",
      "            CATEGORY DESCRIPTION  CGID  ISERROR  \\\n",
      "0  Discharge summary      Report   NaN      NaN   \n",
      "1  Discharge summary      Report   NaN      NaN   \n",
      "2  Discharge summary      Report   NaN      NaN   \n",
      "3  Discharge summary      Report   NaN      NaN   \n",
      "4  Discharge summary      Report   NaN      NaN   \n",
      "\n",
      "                                                TEXT  \n",
      "0  Admission Date:  [**2151-7-16**]       Dischar...  \n",
      "1  Admission Date:  [**2118-6-2**]       Discharg...  \n",
      "2  Admission Date:  [**2119-5-4**]              D...  \n",
      "3  Admission Date:  [**2124-7-21**]              ...  \n",
      "4  Admission Date:  [**2162-3-3**]              D...  \n"
     ]
    }
   ],
   "source": [
    "notes_data = load_data()"
   ]
  },
  {
   "cell_type": "markdown",
   "id": "87ab6c08",
   "metadata": {},
   "source": [
    "#### Using nltk package, remove words in negated context"
   ]
  },
  {
   "cell_type": "code",
   "execution_count": 8,
   "id": "b6df2b6f",
   "metadata": {},
   "outputs": [],
   "source": [
    "def remove_negative_context_words(text):\n",
    "    tokens = nltk.word_tokenize(text)\n",
    "    tokens_neg_marked = nltk.sentiment.util.mark_negation(tokens)\n",
    "    tokens_without_negative_words = [word for word in tokens_neg_marked if not word.endswith(\"_NEG\")]\n",
    "    return \" \".join(tokens_without_negative_words)"
   ]
  },
  {
   "cell_type": "code",
   "execution_count": 9,
   "id": "1ad1ce84",
   "metadata": {},
   "outputs": [
    {
     "data": {
      "text/plain": [
       "'Sam is having cough but not .'"
      ]
     },
     "execution_count": 9,
     "metadata": {},
     "output_type": "execute_result"
    }
   ],
   "source": [
    "example_text = \"Sam is having cough but not fever.\"\n",
    "remove_negative_context_words(example_text)"
   ]
  },
  {
   "cell_type": "markdown",
   "id": "e0c1a7c6",
   "metadata": {},
   "source": [
    "#### Remove some irrevalent section fron Notes "
   ]
  },
  {
   "cell_type": "code",
   "execution_count": 10,
   "id": "f4449335",
   "metadata": {},
   "outputs": [],
   "source": [
    "def remove_irrelevant_sections(text):\n",
    "    lines = text.split(\"\\n\")\n",
    "    output_lines = []\n",
    "    skip = False\n",
    "    for line in lines:\n",
    "        line = line.strip()\n",
    "        # If Skipping lines, look for end of section indicator - new line for now.\n",
    "        if skip:\n",
    "            if not line:\n",
    "                skip = False\n",
    "                continue\n",
    "        else:\n",
    "            for section_name in IRRELEVANT_SECTIONS:\n",
    "                if line.upper().startswith(section_name):\n",
    "                    # print(f\"Skipping section : {line}\")\n",
    "                    skip = True\n",
    "\n",
    "            if not skip:\n",
    "                output_lines.append(line)\n",
    "    return \"\\n\".join(output_lines)"
   ]
  },
  {
   "cell_type": "code",
   "execution_count": 11,
   "id": "14b73013",
   "metadata": {},
   "outputs": [
    {
     "data": {
      "text/plain": [
       "'\\nCLINICAL NOTES: Person is having fever.\\n'"
      ]
     },
     "execution_count": 11,
     "metadata": {},
     "output_type": "execute_result"
    }
   ],
   "source": [
    "sample_text = \"\"\"\n",
    "SOCIAL HISTORY: Some words here.\n",
    "\n",
    "CLINICAL NOTES: Person is having fever.\n",
    "\"\"\"\n",
    "\n",
    "remove_irrelevant_sections(sample_text)"
   ]
  },
  {
   "cell_type": "markdown",
   "id": "7cb53909",
   "metadata": {},
   "source": [
    "### Extracting Symptoms from clinical text using Metamap\n",
    "\n",
    "Metamap download link - https://lhncbc.nlm.nih.gov/ii/tools/MetaMap/run-locally/MainDownload.html <br>\n",
    "Installation link - https://lhncbc.nlm.nih.gov/ii/tools/MetaMap/documentation/Installation.html <br>\n"
   ]
  },
  {
   "cell_type": "code",
   "execution_count": 12,
   "id": "f6eb8a80",
   "metadata": {},
   "outputs": [],
   "source": [
    "def extract_symptoms_using_metamap(text):\n",
    "    symptoms = []\n",
    "    # print(text)\n",
    "    try:\n",
    "        concepts, error = mm.extract_concepts([text])\n",
    "        # print(f\"concepts : {concepts}\")\n",
    "        for concept in concepts:\n",
    "            if hasattr(concept, \"semtypes\"):\n",
    "                if \"sosy\" in concept.semtypes or \"dsyn\" in concept.semtypes:\n",
    "                    # print(f\"concept : {concept}\")\n",
    "                    symptoms.append(concept.preferred_name)\n",
    "        return symptoms\n",
    "    except Exception as e:\n",
    "        print(f\"Exception occurred {e} \")\n",
    "        logger.error(f\"Exception occurred {e} \")\n",
    "        return symptoms"
   ]
  },
  {
   "cell_type": "code",
   "execution_count": 14,
   "id": "882e1d81",
   "metadata": {},
   "outputs": [
    {
     "data": {
      "text/plain": [
       "['Tuberculosis',\n",
       " 'Macrophage Activation Syndrome',\n",
       " 'Osteoporosis',\n",
       " 'Pleural effusion disorder',\n",
       " 'Mass of body region']"
      ]
     },
     "execution_count": 14,
     "metadata": {},
     "output_type": "execute_result"
    }
   ],
   "source": [
    "sample_text = \"\"\" Service:\n",
    "ADDENDUM:\n",
    "\n",
    "RADIOLOGIC STUDIES:  Radiologic studies also included a chest\n",
    "CT, which confirmed cavitary lesions in the left lung apex\n",
    "consistent with infectious process/tuberculosis.  This also\n",
    "moderate-sized left pleural effusion.\n",
    "\n",
    "HEAD CT:  Head CT showed no intracranial hemorrhage or mass\n",
    "effect, but old infarction consistent with past medical\n",
    "history.\n",
    "\n",
    "ABDOMINAL CT:  Abdominal CT showed lesions of\n",
    "T10 and sacrum most likely secondary to osteoporosis. These can\n",
    "be followed by repeat imaging as an outpatient.\n",
    "\n",
    "\"\"\"\n",
    "\n",
    "extract_symptoms_using_metamap(sample_text)"
   ]
  },
  {
   "cell_type": "markdown",
   "id": "0d86c646",
   "metadata": {},
   "source": [
    "### Integrating all above functions to extract symptoms from Clinical notes file"
   ]
  },
  {
   "cell_type": "code",
   "execution_count": 65,
   "id": "c3fc5fb9",
   "metadata": {},
   "outputs": [],
   "source": [
    "# Varaibles\n",
    "timestamp = datetime.now().strftime('%d-%H-%M-%S')\n",
    "# Keeping it low as we don't want to process all records here in notebook\n",
    "NUM_OF_RECORDS_TO_PROCESS = 20\n",
    "LAST_RECORD_DONE = 0\n",
    "record_processed = 0\n",
    "semaphore_object = Semaphore(1)"
   ]
  },
  {
   "cell_type": "markdown",
   "id": "0ae65fcb",
   "metadata": {},
   "source": [
    "#### Takes discharge summary notes, removes irrelevant sections, negated contexts words and finally uses metamap to extract symptoms."
   ]
  },
  {
   "cell_type": "code",
   "execution_count": 60,
   "id": "c64a6c61",
   "metadata": {},
   "outputs": [],
   "source": [
    "def process_notes(text):\n",
    "    # print(f\"Discharge Summary : {text}\")\n",
    "    # Remove non-relevant sections\n",
    "    filtered_text = remove_irrelevant_sections(text)\n",
    "\n",
    "    # Remove negative words\n",
    "    filtered_neg_text = remove_negative_context_words(filtered_text)\n",
    "\n",
    "    # Identify relevant concepts from text\n",
    "    symptoms = extract_symptoms_using_metamap(filtered_neg_text)\n",
    "    return symptoms\n"
   ]
  },
  {
   "cell_type": "markdown",
   "id": "b67406c9",
   "metadata": {},
   "source": [
    "#### appends record in csv format to symptoms file"
   ]
  },
  {
   "cell_type": "code",
   "execution_count": 64,
   "id": "b9f6402a",
   "metadata": {},
   "outputs": [],
   "source": [
    "def save_to_file(notes_data, symptoms_list):\n",
    "    with semaphore_object:\n",
    "        print(f\"printing for {symptoms_list}\")\n",
    "        with open(SYMPTOMS_FILE, 'a') as writer:\n",
    "            for idx, symptoms in enumerate(symptoms_list):\n",
    "                print(f\"notes_data : {notes_data.iloc[idx, 0]}\")\n",
    "                writer.write(str(notes_data.iloc[idx, 0]) + \",\" + str(notes_data.iloc[idx, 1])\n",
    "                             + \",\" + str(notes_data.iloc[idx, 2])\n",
    "                             + \",\" + str(notes_data.iloc[idx, 3]) + \",\")\n",
    "                symptom_str = \"|\".join(symptoms)\n",
    "                symptom_str = symptom_str.replace(\",\", \" \")\n",
    "                writer.write(symptom_str)\n",
    "                writer.write(\"\\n\")"
   ]
  },
  {
   "cell_type": "markdown",
   "id": "2efca96f",
   "metadata": {},
   "source": [
    "#### Processes batches of notes. Some logic here to control how many records we want to process. Symptom extraction is a very slow cpu intensive process. "
   ]
  },
  {
   "cell_type": "code",
   "execution_count": 66,
   "id": "f9d0ba11",
   "metadata": {},
   "outputs": [],
   "source": [
    "def process_chunk(notes_data):\n",
    "    global record_processed\n",
    "    print(notes_data.shape)\n",
    "    record_processed += notes_data.shape[0]\n",
    "    if record_processed > NUM_OF_RECORDS_TO_PROCESS:\n",
    "        return False\n",
    "    if record_processed <= LAST_RECORD_DONE:\n",
    "        print(f\"Skipping - record processed - {record_processed}\")\n",
    "        return True\n",
    "\n",
    "    symptoms_list = []\n",
    "    number_of_rec = notes_data.shape[0]\n",
    "    for index in range(number_of_rec):\n",
    "        symptoms = process_notes(notes_data.iloc[index, 10])\n",
    "        print(f\"Symptoms : {symptoms}\")\n",
    "        symptoms_list.append(symptoms)\n",
    "\n",
    "    save_to_file(notes_data, symptoms_list)\n",
    "    return True\n"
   ]
  },
  {
   "cell_type": "markdown",
   "id": "f4fa2d47",
   "metadata": {},
   "source": [
    "#### Main program to call above defined functions"
   ]
  },
  {
   "cell_type": "code",
   "execution_count": 68,
   "id": "45d4fb9a",
   "metadata": {},
   "outputs": [
    {
     "name": "stdout",
     "output_type": "stream",
     "text": [
      "(10, 11)\n",
      "processing record : 10\n",
      "Symptoms : ['Tuberculosis', 'Osteoporosis', 'Pleural effusion disorder']\n",
      "Symptoms : ['Leukocytosis', 'Muscle Weakness', 'Paresis', 'Dyspnea', 'Angina Pectoris', 'Hematuria', 'Tracheomalacia', 'Hypothyroidism', 'Obesity', 'Hyperglycemia', 'Chronic Obstructive Airway Disease', 'Angina, Unstable', 'Hypertensive disease', 'Lipomucopolysaccharidosis', 'Respiratory Failure', 'Pharyngitis', 'Sore Throat', 'Empty Sella Syndrome', 'Headache', 'Cerebrovascular accident', 'Dizziness', 'Hiatal Hernia', 'Lightheadedness', 'Chest Pain', 'Fever', 'Nausea', 'Vomiting', 'Infantile Neuroaxonal Dystrophy', 'Wheezing', 'Chills', 'Cyanosis', 'Exanthema', 'Labored breathing', 'Disease', 'Pneumonia', 'Lymphadenopathy', 'Communicable Diseases', 'Weakness', 'Chronic obstructive pulmonary disease of horses', 'Angina decubitus', 'Clubbing', 'Left lower zone pneumonia', 'Night sweats', 'SHORT STATURE, ONYCHODYSPLASIA, FACIAL DYSMORPHISM, AND HYPOTRICHOSIS SYNDROME', 'Symptoms', 'Steroid-induced myopathy', 'Discharge, body substance', 'Mucous membrane dryness']\n",
      "Symptoms : ['Chronic Obstructive Airway Disease', 'Deep Vein Thrombosis', 'Cerebrovascular accident', 'Fever', 'Hiatal Hernia', 'Mastodynia', 'Hypothyroidism', 'Coughing', 'Erythema', 'Pain', 'Wheezing', 'Hypertensive disease', 'Edema', 'Chest Pain', 'Tracheomalacia', 'Dyspnea', 'Chronic obstructive pulmonary disease of horses', 'Flushing', 'Tracheobronchomalacia', 'Endometriosis', 'Disease', 'Blepharoptosis', 'Ptosis', 'Respiratory Failure', 'Communicable Diseases', 'Discharge, body substance', 'Symptoms', 'Atypical angina', 'Flare', 'MYOCLONIC-ATONIC EPILEPSY', 'Struck', 'MICROCEPHALY, EPILEPSY, AND DIABETES SYNDROME', 'copd exacerbation']\n",
      "Symptoms : ['Dyspnea', 'Chronic Obstructive Airway Disease', 'Hiatal Hernia', 'Wheezing', 'Chest Pain', 'Lethargy', 'Cerebrovascular accident', 'Leukocytosis', 'Pneumocystis jiroveci pneumonia', 'Tracheobronchomalacia', 'Constipation', 'Respiratory Failure', 'Hypothyroidism', 'Dysuria', 'Neck Pain', 'Coronary Arteriosclerosis', 'Coronary Artery Disease', 'Left Ventricular Hypertrophy', 'Sleeplessness', 'Aortic Valve Insufficiency', 'Aortic Valve Stenosis', 'Diarrhea', 'Esophagitis', 'Fever', 'Discharge, body substance', 'Chronic obstructive pulmonary disease of horses', 'Coronary heart disease', 'Hematochezia', 'SYNOVITIS, GRANULOMATOUS, WITH UVEITIS AND CRANIAL NEUROPATHIES (disorder)', 'Coughing', 'Infantile Neuroaxonal Dystrophy', 'Dyslipidemias', 'Chills', 'Pulmonary arterial hypertension', 'dyspnea acute', 'Congestive heart failure', 'Lung consolidation', 'Pneumonia', 'Disease', 'Communicable Diseases', 'Signs and Symptoms, Respiratory', 'Hypertensive disease', 'Clouded consciousness', 'Weakness', 'copd exacerbation', 'SHORT STATURE, ONYCHODYSPLASIA, FACIAL DYSMORPHISM, AND HYPOTRICHOSIS SYNDROME', 'Flare', 'Discomfort', 'Paroxysmal nocturnal dyspnea', 'Respiratory distress', 'Blood in stool', 'Atypical angina', 'Symptoms', 'Struck', 'Degeneration of spine', 'Generalized muscle weakness', 'Steroid-induced myopathy', 'Agitation', 'Nuclear non-senile cataract']\n",
      "Symptoms : ['Encephalomalacia', 'Pain', 'Obesity', 'Aspiration Pneumonia', 'Chronic multifocal osteomyelitis', 'Wheezing', 'Edema', 'Osteophyte', 'Deep Vein Thrombosis', 'Hyperostosis, Diffuse Idiopathic Skeletal', 'Coronary Arteriosclerosis', 'Coronary Artery Disease', 'Cerebrovascular accident', 'Degenerative polyarthritis', 'Coronary heart disease', 'Atrial Fibrillation', 'Constipation', 'Cyst', 'Renal cyst', 'Compression Pulmonary Atelectasis', 'Disease', 'Pulmonary Edema', 'Hypertensive disease', 'Bilateral pleural effusion', 'Aspiration pneumonitis', 'Cervical spondylosis', 'SHORT STATURE, ONYCHODYSPLASIA, FACIAL DYSMORPHISM, AND HYPOTRICHOSIS SYNDROME', 'Agitation', 'Degenerative disorder', 'External exotoses', 'Difficulty passing urine', 'Calcific tendinitis', 'cervical abnormality', 'Discharge, body substance', 'CALCIFIC BURSITIS', 'Soft tissue swelling', 'vascular ischemia', 'Congestive heart failure', 'Chronic bursitis']\n",
      "Symptoms : ['Macrophage Activation Syndrome', 'Seizures', 'Headache', 'Mass of body region', 'Sweet Syndrome', 'Pneumocystis jiroveci pneumonia', 'Numbness', 'Paresthesia', 'hearing impairment', 'Disease', 'Tremor', 'Constipation', 'Deglutition Disorders', 'Diabetes Mellitus', 'Erythema', 'Fever', 'Nausea', 'Pain', 'Vomiting', 'Dermatologic disorders', 'Chromosome 2q32-Q33 Deletion Syndrome', 'Common Cold', 'Edema', 'Communicable Diseases', 'Upper Respiratory Infections', 'Autoimmune Diseases', 'Heart Diseases', 'Discharge, body substance', 'Clouded consciousness', 'Diabetes', 'Has tingling sensation', 'Imbalance', 'Symptoms', 'Gastric irritation', 'Sore to touch', 'headache severe', 'Sharp pain']\n",
      "Symptoms : ['Dyspnea', 'Hiatal Hernia', 'Hypertensive disease', 'Fever', 'Exanthema', 'Pleural effusion disorder', 'Chest Pain', 'Dysuria', 'Congestive heart failure', 'Diarrhea', 'SYNOVITIS, GRANULOMATOUS, WITH UVEITIS AND CRANIAL NEUROPATHIES (disorder)', 'Coughing', 'Pneumothorax', 'Discharge, body substance', 'Pneumonia, Interstitial', 'Disease', 'Edema', 'Communicable Diseases', 'Pneumonia', 'MYOCLONIC-ATONIC EPILEPSY', 'Nausea and vomiting', 'Upper back pain', 'Interstitial Disease', 'Nuclear non-senile cataract', 'Pulmonary congestion', 'Respiratory distress', 'SHORT STATURE, ONYCHODYSPLASIA, FACIAL DYSMORPHISM, AND HYPOTRICHOSIS SYNDROME']\n",
      "Symptoms : ['Pain', 'Pneumocephalus', 'Fever', 'Seizures', 'Numbness', 'Paresthesia', 'Subarachnoid Hemorrhage', 'Discharge, body substance', 'Headache', 'Disorientation', 'Tremor', 'Constipation', 'Erythema', 'Convulsions', 'Chromosome 2q32-Q33 Deletion Syndrome', 'Pneumocystis jiroveci pneumonia', 'Hypertensive disease', 'Pneumonia', 'Clouded consciousness', 'Edema', 'Disease', 'Cardiac Arrhythmia', 'Conduction disorder of the heart', 'Fatigue', 'Communicable Diseases', 'Pulmonary Edema', 'Has tingling sensation', 'Soft tissue swelling', 'Gastric irritation', 'Cerebral atrophy', 'Cerebral cortical atrophy', 'Sore to touch', 'Adverse Event Associated with Cardiac Arrhythmia', 'Tired', 'SHORT STATURE, ONYCHODYSPLASIA, FACIAL DYSMORPHISM, AND HYPOTRICHOSIS SYNDROME', 'Lesion of brain']\n",
      "Symptoms : ['Seizures', 'Pain', 'Constipation', 'Macrophage Activation Syndrome', 'Numbness', 'Paresthesia', 'Edema', 'Headache', 'Pneumocephalus', 'Tremor', 'Erythema', 'Fever', 'Cardiac Arrhythmia', 'Discharge, body substance', 'Disease', 'Upper Respiratory Infections', 'Communicable Diseases', 'Mass of body region', 'Clouded consciousness', 'Has tingling sensation', 'Sore to touch']\n",
      "Symptoms : ['Headache', 'Seizures', 'Pain', 'Constipation', 'Numbness', 'Paresthesia', 'Edema', 'Migraine Disorders', 'Kidney Calculi', 'Nephrolithiasis', 'Oliguria', 'Tremor', 'Discharge, body substance', 'Epilepsy', 'Erythema', 'Fever', 'Nystagmus', 'Cardiac Arrhythmia', 'MYOCLONIC-ATONIC EPILEPSY', 'Disease', 'Upper Respiratory Infections', 'Communicable Diseases', 'Nasal congestion (finding)', 'Nuclear non-senile cataract', 'Clouded consciousness', 'Has tingling sensation', 'Sore to touch']\n",
      "printing for [['Tuberculosis', 'Osteoporosis', 'Pleural effusion disorder'], ['Leukocytosis', 'Muscle Weakness', 'Paresis', 'Dyspnea', 'Angina Pectoris', 'Hematuria', 'Tracheomalacia', 'Hypothyroidism', 'Obesity', 'Hyperglycemia', 'Chronic Obstructive Airway Disease', 'Angina, Unstable', 'Hypertensive disease', 'Lipomucopolysaccharidosis', 'Respiratory Failure', 'Pharyngitis', 'Sore Throat', 'Empty Sella Syndrome', 'Headache', 'Cerebrovascular accident', 'Dizziness', 'Hiatal Hernia', 'Lightheadedness', 'Chest Pain', 'Fever', 'Nausea', 'Vomiting', 'Infantile Neuroaxonal Dystrophy', 'Wheezing', 'Chills', 'Cyanosis', 'Exanthema', 'Labored breathing', 'Disease', 'Pneumonia', 'Lymphadenopathy', 'Communicable Diseases', 'Weakness', 'Chronic obstructive pulmonary disease of horses', 'Angina decubitus', 'Clubbing', 'Left lower zone pneumonia', 'Night sweats', 'SHORT STATURE, ONYCHODYSPLASIA, FACIAL DYSMORPHISM, AND HYPOTRICHOSIS SYNDROME', 'Symptoms', 'Steroid-induced myopathy', 'Discharge, body substance', 'Mucous membrane dryness'], ['Chronic Obstructive Airway Disease', 'Deep Vein Thrombosis', 'Cerebrovascular accident', 'Fever', 'Hiatal Hernia', 'Mastodynia', 'Hypothyroidism', 'Coughing', 'Erythema', 'Pain', 'Wheezing', 'Hypertensive disease', 'Edema', 'Chest Pain', 'Tracheomalacia', 'Dyspnea', 'Chronic obstructive pulmonary disease of horses', 'Flushing', 'Tracheobronchomalacia', 'Endometriosis', 'Disease', 'Blepharoptosis', 'Ptosis', 'Respiratory Failure', 'Communicable Diseases', 'Discharge, body substance', 'Symptoms', 'Atypical angina', 'Flare', 'MYOCLONIC-ATONIC EPILEPSY', 'Struck', 'MICROCEPHALY, EPILEPSY, AND DIABETES SYNDROME', 'copd exacerbation'], ['Dyspnea', 'Chronic Obstructive Airway Disease', 'Hiatal Hernia', 'Wheezing', 'Chest Pain', 'Lethargy', 'Cerebrovascular accident', 'Leukocytosis', 'Pneumocystis jiroveci pneumonia', 'Tracheobronchomalacia', 'Constipation', 'Respiratory Failure', 'Hypothyroidism', 'Dysuria', 'Neck Pain', 'Coronary Arteriosclerosis', 'Coronary Artery Disease', 'Left Ventricular Hypertrophy', 'Sleeplessness', 'Aortic Valve Insufficiency', 'Aortic Valve Stenosis', 'Diarrhea', 'Esophagitis', 'Fever', 'Discharge, body substance', 'Chronic obstructive pulmonary disease of horses', 'Coronary heart disease', 'Hematochezia', 'SYNOVITIS, GRANULOMATOUS, WITH UVEITIS AND CRANIAL NEUROPATHIES (disorder)', 'Coughing', 'Infantile Neuroaxonal Dystrophy', 'Dyslipidemias', 'Chills', 'Pulmonary arterial hypertension', 'dyspnea acute', 'Congestive heart failure', 'Lung consolidation', 'Pneumonia', 'Disease', 'Communicable Diseases', 'Signs and Symptoms, Respiratory', 'Hypertensive disease', 'Clouded consciousness', 'Weakness', 'copd exacerbation', 'SHORT STATURE, ONYCHODYSPLASIA, FACIAL DYSMORPHISM, AND HYPOTRICHOSIS SYNDROME', 'Flare', 'Discomfort', 'Paroxysmal nocturnal dyspnea', 'Respiratory distress', 'Blood in stool', 'Atypical angina', 'Symptoms', 'Struck', 'Degeneration of spine', 'Generalized muscle weakness', 'Steroid-induced myopathy', 'Agitation', 'Nuclear non-senile cataract'], ['Encephalomalacia', 'Pain', 'Obesity', 'Aspiration Pneumonia', 'Chronic multifocal osteomyelitis', 'Wheezing', 'Edema', 'Osteophyte', 'Deep Vein Thrombosis', 'Hyperostosis, Diffuse Idiopathic Skeletal', 'Coronary Arteriosclerosis', 'Coronary Artery Disease', 'Cerebrovascular accident', 'Degenerative polyarthritis', 'Coronary heart disease', 'Atrial Fibrillation', 'Constipation', 'Cyst', 'Renal cyst', 'Compression Pulmonary Atelectasis', 'Disease', 'Pulmonary Edema', 'Hypertensive disease', 'Bilateral pleural effusion', 'Aspiration pneumonitis', 'Cervical spondylosis', 'SHORT STATURE, ONYCHODYSPLASIA, FACIAL DYSMORPHISM, AND HYPOTRICHOSIS SYNDROME', 'Agitation', 'Degenerative disorder', 'External exotoses', 'Difficulty passing urine', 'Calcific tendinitis', 'cervical abnormality', 'Discharge, body substance', 'CALCIFIC BURSITIS', 'Soft tissue swelling', 'vascular ischemia', 'Congestive heart failure', 'Chronic bursitis'], ['Macrophage Activation Syndrome', 'Seizures', 'Headache', 'Mass of body region', 'Sweet Syndrome', 'Pneumocystis jiroveci pneumonia', 'Numbness', 'Paresthesia', 'hearing impairment', 'Disease', 'Tremor', 'Constipation', 'Deglutition Disorders', 'Diabetes Mellitus', 'Erythema', 'Fever', 'Nausea', 'Pain', 'Vomiting', 'Dermatologic disorders', 'Chromosome 2q32-Q33 Deletion Syndrome', 'Common Cold', 'Edema', 'Communicable Diseases', 'Upper Respiratory Infections', 'Autoimmune Diseases', 'Heart Diseases', 'Discharge, body substance', 'Clouded consciousness', 'Diabetes', 'Has tingling sensation', 'Imbalance', 'Symptoms', 'Gastric irritation', 'Sore to touch', 'headache severe', 'Sharp pain'], ['Dyspnea', 'Hiatal Hernia', 'Hypertensive disease', 'Fever', 'Exanthema', 'Pleural effusion disorder', 'Chest Pain', 'Dysuria', 'Congestive heart failure', 'Diarrhea', 'SYNOVITIS, GRANULOMATOUS, WITH UVEITIS AND CRANIAL NEUROPATHIES (disorder)', 'Coughing', 'Pneumothorax', 'Discharge, body substance', 'Pneumonia, Interstitial', 'Disease', 'Edema', 'Communicable Diseases', 'Pneumonia', 'MYOCLONIC-ATONIC EPILEPSY', 'Nausea and vomiting', 'Upper back pain', 'Interstitial Disease', 'Nuclear non-senile cataract', 'Pulmonary congestion', 'Respiratory distress', 'SHORT STATURE, ONYCHODYSPLASIA, FACIAL DYSMORPHISM, AND HYPOTRICHOSIS SYNDROME'], ['Pain', 'Pneumocephalus', 'Fever', 'Seizures', 'Numbness', 'Paresthesia', 'Subarachnoid Hemorrhage', 'Discharge, body substance', 'Headache', 'Disorientation', 'Tremor', 'Constipation', 'Erythema', 'Convulsions', 'Chromosome 2q32-Q33 Deletion Syndrome', 'Pneumocystis jiroveci pneumonia', 'Hypertensive disease', 'Pneumonia', 'Clouded consciousness', 'Edema', 'Disease', 'Cardiac Arrhythmia', 'Conduction disorder of the heart', 'Fatigue', 'Communicable Diseases', 'Pulmonary Edema', 'Has tingling sensation', 'Soft tissue swelling', 'Gastric irritation', 'Cerebral atrophy', 'Cerebral cortical atrophy', 'Sore to touch', 'Adverse Event Associated with Cardiac Arrhythmia', 'Tired', 'SHORT STATURE, ONYCHODYSPLASIA, FACIAL DYSMORPHISM, AND HYPOTRICHOSIS SYNDROME', 'Lesion of brain'], ['Seizures', 'Pain', 'Constipation', 'Macrophage Activation Syndrome', 'Numbness', 'Paresthesia', 'Edema', 'Headache', 'Pneumocephalus', 'Tremor', 'Erythema', 'Fever', 'Cardiac Arrhythmia', 'Discharge, body substance', 'Disease', 'Upper Respiratory Infections', 'Communicable Diseases', 'Mass of body region', 'Clouded consciousness', 'Has tingling sensation', 'Sore to touch'], ['Headache', 'Seizures', 'Pain', 'Constipation', 'Numbness', 'Paresthesia', 'Edema', 'Migraine Disorders', 'Kidney Calculi', 'Nephrolithiasis', 'Oliguria', 'Tremor', 'Discharge, body substance', 'Epilepsy', 'Erythema', 'Fever', 'Nystagmus', 'Cardiac Arrhythmia', 'MYOCLONIC-ATONIC EPILEPSY', 'Disease', 'Upper Respiratory Infections', 'Communicable Diseases', 'Nasal congestion (finding)', 'Nuclear non-senile cataract', 'Clouded consciousness', 'Has tingling sensation', 'Sore to touch']]\n",
      "notes_data : 174\n",
      "notes_data : 175\n",
      "notes_data : 176\n",
      "notes_data : 177\n",
      "notes_data : 178\n",
      "notes_data : 179\n",
      "notes_data : 180\n",
      "notes_data : 181\n",
      "notes_data : 182\n",
      "notes_data : 183\n",
      "(10, 11)\n",
      "processing record : 20\n"
     ]
    },
    {
     "name": "stdout",
     "output_type": "stream",
     "text": [
      "Symptoms : ['Chest Pain', 'Aortic Valve Stenosis', 'Diabetes Mellitus', 'Dyspnea', 'Hematuria', 'Pulmonary Edema', 'Pain', 'Atrial Fibrillation', 'Peripheral Arterial Diseases', 'Hyperlipidemia', 'Left Ventricular Hypertrophy', 'Premature ventricular contractions', 'Mastodynia', 'Hypertensive disease', 'Heart failure', 'Aortic Valve Insufficiency', 'Degenerative polyarthritis', 'Ventricular Fibrillation, Paroxysmal Familial, 1', 'Vasovagal syncope', 'Kidney Failure, Acute', 'Peripheral Vascular Diseases', 'Angina Pectoris', 'Congestive heart failure', 'Atrial Premature Complexes', 'Cerebrovascular accident', 'Scoliosis, unspecified', 'Kidney Failure', 'Renal Insufficiency', 'Coronary Arteriosclerosis', 'Coronary Artery Disease', 'Non-ST Elevated Myocardial Infarction', 'Dyslipidemias', 'Xanthoma', 'Infantile Neuroaxonal Dystrophy', 'Nausea', 'SYNOVITIS, GRANULOMATOUS, WITH UVEITIS AND CRANIAL NEUROPATHIES (disorder)', 'Ventricular Fibrillation', 'Coronary heart disease', 'Bilateral pleural effusion', 'Diabetes', 'Disease', 'Left ventricular systolic dysfunction', 'Dyspnea on exertion', 'Intraventricular conduction defect', 'Ischemia co-occurrent and due to increased oxygen demand', 'Ischemic cardiomyopathy', 'Paroxysmal nocturnal dyspnea', 'Pre-renal acute kidney injury', 'Sore to touch', 'Stasis dermatitis', 'Symptoms', 'Mass of body region', 'Chronic systolic heart failure', 'hypokinesis global', 'Acute heart failure', 'Feeling Cold', 'Systolic left ventricular heart failure', 'Nuclear non-senile cataract', 'Ventricular arrhythmia', 'SHORT STATURE, ONYCHODYSPLASIA, FACIAL DYSMORPHISM, AND HYPOTRICHOSIS SYNDROME', 'Paroxysmal atrial fibrillation', 'Discharge, body substance', 'Radiating chest pain', 'sharp chest pain', 'Knee pain']\n",
      "Symptoms : ['Atrial Fibrillation', 'Diarrhea', 'Hypertensive disease', 'Gastroesophageal reflux disease', 'Diabetes Mellitus, Non-Insulin-Dependent', 'Colitis', 'Hematochezia', 'Pain', 'Anemia', 'Disease', 'Kidney Failure, Acute', 'Chronic Kidney Diseases', 'Chronic Kidney Insufficiency', 'Discharge, body substance', 'Congestive heart failure', 'Sepsis', 'Septicemia', 'Hyperlipidemia', 'Oliguria', 'Rheumatic Fever', 'Intermittent Claudication', 'Cerebrovascular accident', 'Pneumocystis jiroveci pneumonia', 'Histiocytosis with joint contractures and sensorineural deafness', 'Syndrome', 'SYNOVITIS, GRANULOMATOUS, WITH UVEITIS AND CRANIAL NEUROPATHIES (disorder)', 'Infantile Neuroaxonal Dystrophy', 'Alkalosis', 'Dyspnea', 'Systemic Inflammatory Response Syndrome', 'Degenerative polyarthritis', 'Fever', 'Oculocutaneous albinism type 1A', 'Constipation', 'Pleural effusion disorder', 'Glaucoma', 'Edema', 'Osteopenia', 'Peripheral Vascular Diseases', 'Ascites', 'Pneumothorax', 'Nuclear non-senile cataract', 'Anemia of chronic disease', 'bowel ischemic', 'Atrophy of kidney', 'Metabolic alkalosis', 'pancolitis', 'Bilateral pleural effusion', 'Acute-on-chronic renal failure', 'Acute posthaemorrhagic anaemia', 'Anemia due to blood loss', 'Iron deficiency anemia secondary to chronic blood loss', 'Gastrointestinal tract vascular insufficiency', 'Vascular insufficiency of intestine', 'Chest wall pain', 'Heparin-induced thrombocytopenia', 'Pain in lower limb', 'Pre-renal acute kidney injury', 'SHORT STATURE, ONYCHODYSPLASIA, FACIAL DYSMORPHISM, AND HYPOTRICHOSIS SYNDROME', 'Enteritis due to specified virus']\n",
      "Symptoms : ['Chest Pain', 'Disease', 'Granulomatosis with polyangiitis', 'Gastroesophageal reflux disease', 'Peptic Ulcer', 'Vascular Diseases', 'Pain', 'Glaucoma', 'Hypertensive disease', 'Discharge, body substance', 'Heart Diseases', 'Chest pain on exertion', 'Pauci-immune Glomerulonephritis associated with Granulomatosis with Polyangiitis']\n",
      "Symptoms : ['Chest Pain', 'Disease', 'Granulomatosis with polyangiitis', 'Gastroesophageal reflux disease', 'Peptic Ulcer', 'Vascular Diseases', 'Pain', 'Glaucoma', 'Hypertensive disease', 'Discharge, body substance', 'Heart Diseases', 'Chest pain on exertion', 'Pauci-immune Glomerulonephritis associated with Granulomatosis with Polyangiitis']\n",
      "Symptoms : ['Pain', 'HIV Infections', 'Tricuspid Valve Insufficiency', 'Thrombocytopenia', 'Infantile Neuroaxonal Dystrophy', 'Blood Coagulation Disorders', 'Hypertensive disease', 'Disease', 'Congestive heart failure', 'Allergy to penicillin', 'Heparin-induced thrombocytopenia', 'Discharge, body substance']\n",
      "Symptoms : ['Pericardial effusion', 'Tricuspid Valve Insufficiency', 'Chest Pain', 'Dyspnea', 'Cardiac Tamponade', 'Fever', 'Oral candidiasis', 'Osteomyelitis', 'Acquired Immunodeficiency Syndrome', 'Asthma', 'Candidiasis', 'Communicable Diseases', 'Myocardial Infarction', 'Infantile Neuroaxonal Dystrophy', 'SYNOVITIS, GRANULOMATOUS, WITH UVEITIS AND CRANIAL NEUROPATHIES (disorder)', 'Pneumocystis jiroveci pneumonia', 'Pain', 'Mucolipidosis Type IV', 'Cachexia', 'Myalgia', 'Transient Cerebral Ischemia', 'Transient Ischemic Attack', 'hiv-infection/aids', 'Arthralgia', 'Deep Vein Thrombosis', 'Scoliosis, unspecified', 'Left Ventricular Hypertrophy', 'Hepatitis B', 'Lethargy', 'Gout', 'Abscess', 'Cerebrovascular accident', 'Coughing', 'Gastritis', 'Hemoptysis', 'Nausea', 'Vomiting', 'Xanthoma', 'Discharge, body substance', 'Aortic Valve Insufficiency', 'Flushing', 'Equine thrush (disorder)', 'Anemia', 'Chills', 'Endocarditis', 'Crystal Arthropathies', 'Disease', 'Pancytopenia', 'Heart Failure, Right-Sided', 'Epididymitis', 'Ankle pain', 'Symptoms', 'Candidiasis of the esophagus', 'Feces color: tarry', 'Pain in calf', 'Red stools', 'Rigor - Temperature-associated observation', 'Stasis dermatitis', 'Idiopathic pulmonary arterial hypertension', 'Idiopathic pulmonary hypertension', 'Systolic hypertension, mild', 'Foot osteomyelitis', 'Nuclear non-senile cataract', 'Symptom of foot', 'Wasting', 'flail segment', 'Osteomyelitis of ankle', 'Anemia of chronic disease', 'exercise induced', 'Foot abscess', 'Infective bulbar necrosis', 'Acute bacterial endocarditis']\n",
      "Symptoms : ['Myocardial Infarction', 'Degenerative polyarthritis', 'Hypertensive disease', 'Chronic Kidney Diseases', 'Chronic Kidney Insufficiency', 'Coronary Arteriosclerosis', 'Coronary Artery Disease', 'Kidney Failure', 'Peptic Ulcer', 'Renal Insufficiency', 'Headache', 'Poliomyelitis', 'Coronary heart disease', 'Macrophage Activation Syndrome', 'Urinary tract infection', 'Diabetes Mellitus', 'Lymphadenopathy', 'Disease', 'Edema', 'Bursitis', 'Agitation', 'Clouded consciousness', 'Paroxysmal atrial fibrillation', 'poor dentition', 'Early infantile epileptic encephalopathy with suppression bursts', 'Mass of body region', 'Lesion of brain', 'Secondary disease, NOS', 'Cellulitis of knee', 'SHORT STATURE, ONYCHODYSPLASIA, FACIAL DYSMORPHISM, AND HYPOTRICHOSIS SYNDROME', 'Discharge, body substance', 'Weakness', 'Diabetes', 'DYSFUNCTION - SKIN DISORDERS']\n",
      "Symptoms : ['Dyspnea', 'Chronic Obstructive Airway Disease', 'Coughing', 'Hyponatremia', 'Chest Pain', 'Gout', 'Atrial Fibrillation', 'Pneumocystis jiroveci pneumonia', 'Cardiomyopathy, Dilated', 'Oliguria', 'Obesity', 'Hematochezia', 'Facial Hemiatrophy', 'Hypertensive disease', 'Heart failure', 'Chronic obstructive pulmonary disease of horses', 'Anuria', 'Diverticular disease of colon', 'Left Ventricular Hypertrophy', 'Muscle Cramp', 'Ketonuria', 'Tachycardia, Ventricular', 'Sleeplessness', 'Aortic Valve Insufficiency', 'Aortic Valve Stenosis', 'Nausea', 'Psoriasis', 'Tricuspid Valve Insufficiency', 'Wheezing', 'Xanthoma', 'Discharge, body substance', 'ABLEPHARON-MACROSTOMIA SYNDROME', 'Kidney Diseases', 'Constipation', 'Anemia', 'Cardiomyopathies', 'Disease', 'Fatigue', 'Pneumothorax', 'Congestive heart failure', 'Edema', 'Rhinitis', 'Nuclear non-senile cataract', 'Heart Diseases', 'Acute on chronic systolic heart failure', 'Acute-on-chronic renal failure', 'OPTIC ATROPHY WITH OR WITHOUT DEAFNESS, OPHTHALMOPLEGIA, MYOPATHY, ATAXIA, AND NEUROPATHY', 'Stasis dermatitis', 'Systolic hypertension, mild', 'Fever with chills', 'Blood in stool', 'Discomfort', 'SHORT STATURE, ONYCHODYSPLASIA, FACIAL DYSMORPHISM, AND HYPOTRICHOSIS SYNDROME', 'copd exacerbation', 'pulmonary edema interstitial', 'Lung consolidation', 'hyponatremic', 'LUSCAN-LUMISH SYNDROME']\n"
     ]
    },
    {
     "name": "stdout",
     "output_type": "stream",
     "text": [
      "Symptoms : ['Kidney Failure, Chronic', 'Dyspnea', 'Pain', 'Kidney Failure', 'Atrial Fibrillation', 'Erythema', 'Chronic Obstructive Airway Disease', 'Edema', 'Chest Pain', 'Obesity', 'Coughing', 'Discharge, body substance', 'Facial Hemiatrophy', 'Pleural effusion disorder', 'Dizziness', 'Lightheadedness', 'Diverticular disease of colon', 'Coronary Arteriosclerosis', 'Coronary Artery Disease', 'Tachycardia, Ventricular', 'Allergic rhinitis (disorder)', 'Deep Vein Thrombosis', 'Gout', 'Cryopyrin-Associated Periodic Syndromes', 'Pneumocystis jiroveci pneumonia', 'Wheezing', 'Chronic kidney disease stage 5', 'Congestive heart failure', 'Chronic obstructive pulmonary disease of horses', 'SYNOVITIS, GRANULOMATOUS, WITH UVEITIS AND CRANIAL NEUROPATHIES (disorder)', 'Leg Ulcer', 'Coronary heart disease', 'Psoriasis', 'Anemia', 'Disease', 'Pneumothorax', 'Pulmonary Edema', 'Skin Diseases, Infectious', 'Heart failure', 'Hypertensive disease', 'Pitting edema', 'Chronic ulcer', 'SHORT STATURE, ONYCHODYSPLASIA, FACIAL DYSMORPHISM, AND HYPOTRICHOSIS SYNDROME', 'Heart Diseases', 'Pain in calf', 'Disorder of implantable defibrillator', 'HEART PROBLEM', 'Blanching', 'Discomfort']\n",
      "Symptoms : ['Pneumocystis jiroveci pneumonia', 'Left Ventricular Hypertrophy', 'Dizziness', 'Vertigo', 'Anal Fissure', 'Kidney Calculi', 'Crohn Disease', 'Atrial Fibrillation', 'Fever', 'Rheumatoid Arthritis', 'Diabetes Mellitus', 'Hematochezia', 'Chills', 'Disease', 'Hypertensive disease', 'Cirrhosis', 'Liver Cirrhosis', 'Blood Coagulation Disorders', 'Discharge, body substance', 'Nausea and vomiting', 'Gallstone pancreatitis', 'Diabetes', 'knee pain chronic', 'SHORT STATURE, ONYCHODYSPLASIA, FACIAL DYSMORPHISM, AND HYPOTRICHOSIS SYNDROME']\n",
      "printing for [['Chest Pain', 'Aortic Valve Stenosis', 'Diabetes Mellitus', 'Dyspnea', 'Hematuria', 'Pulmonary Edema', 'Pain', 'Atrial Fibrillation', 'Peripheral Arterial Diseases', 'Hyperlipidemia', 'Left Ventricular Hypertrophy', 'Premature ventricular contractions', 'Mastodynia', 'Hypertensive disease', 'Heart failure', 'Aortic Valve Insufficiency', 'Degenerative polyarthritis', 'Ventricular Fibrillation, Paroxysmal Familial, 1', 'Vasovagal syncope', 'Kidney Failure, Acute', 'Peripheral Vascular Diseases', 'Angina Pectoris', 'Congestive heart failure', 'Atrial Premature Complexes', 'Cerebrovascular accident', 'Scoliosis, unspecified', 'Kidney Failure', 'Renal Insufficiency', 'Coronary Arteriosclerosis', 'Coronary Artery Disease', 'Non-ST Elevated Myocardial Infarction', 'Dyslipidemias', 'Xanthoma', 'Infantile Neuroaxonal Dystrophy', 'Nausea', 'SYNOVITIS, GRANULOMATOUS, WITH UVEITIS AND CRANIAL NEUROPATHIES (disorder)', 'Ventricular Fibrillation', 'Coronary heart disease', 'Bilateral pleural effusion', 'Diabetes', 'Disease', 'Left ventricular systolic dysfunction', 'Dyspnea on exertion', 'Intraventricular conduction defect', 'Ischemia co-occurrent and due to increased oxygen demand', 'Ischemic cardiomyopathy', 'Paroxysmal nocturnal dyspnea', 'Pre-renal acute kidney injury', 'Sore to touch', 'Stasis dermatitis', 'Symptoms', 'Mass of body region', 'Chronic systolic heart failure', 'hypokinesis global', 'Acute heart failure', 'Feeling Cold', 'Systolic left ventricular heart failure', 'Nuclear non-senile cataract', 'Ventricular arrhythmia', 'SHORT STATURE, ONYCHODYSPLASIA, FACIAL DYSMORPHISM, AND HYPOTRICHOSIS SYNDROME', 'Paroxysmal atrial fibrillation', 'Discharge, body substance', 'Radiating chest pain', 'sharp chest pain', 'Knee pain'], ['Atrial Fibrillation', 'Diarrhea', 'Hypertensive disease', 'Gastroesophageal reflux disease', 'Diabetes Mellitus, Non-Insulin-Dependent', 'Colitis', 'Hematochezia', 'Pain', 'Anemia', 'Disease', 'Kidney Failure, Acute', 'Chronic Kidney Diseases', 'Chronic Kidney Insufficiency', 'Discharge, body substance', 'Congestive heart failure', 'Sepsis', 'Septicemia', 'Hyperlipidemia', 'Oliguria', 'Rheumatic Fever', 'Intermittent Claudication', 'Cerebrovascular accident', 'Pneumocystis jiroveci pneumonia', 'Histiocytosis with joint contractures and sensorineural deafness', 'Syndrome', 'SYNOVITIS, GRANULOMATOUS, WITH UVEITIS AND CRANIAL NEUROPATHIES (disorder)', 'Infantile Neuroaxonal Dystrophy', 'Alkalosis', 'Dyspnea', 'Systemic Inflammatory Response Syndrome', 'Degenerative polyarthritis', 'Fever', 'Oculocutaneous albinism type 1A', 'Constipation', 'Pleural effusion disorder', 'Glaucoma', 'Edema', 'Osteopenia', 'Peripheral Vascular Diseases', 'Ascites', 'Pneumothorax', 'Nuclear non-senile cataract', 'Anemia of chronic disease', 'bowel ischemic', 'Atrophy of kidney', 'Metabolic alkalosis', 'pancolitis', 'Bilateral pleural effusion', 'Acute-on-chronic renal failure', 'Acute posthaemorrhagic anaemia', 'Anemia due to blood loss', 'Iron deficiency anemia secondary to chronic blood loss', 'Gastrointestinal tract vascular insufficiency', 'Vascular insufficiency of intestine', 'Chest wall pain', 'Heparin-induced thrombocytopenia', 'Pain in lower limb', 'Pre-renal acute kidney injury', 'SHORT STATURE, ONYCHODYSPLASIA, FACIAL DYSMORPHISM, AND HYPOTRICHOSIS SYNDROME', 'Enteritis due to specified virus'], ['Chest Pain', 'Disease', 'Granulomatosis with polyangiitis', 'Gastroesophageal reflux disease', 'Peptic Ulcer', 'Vascular Diseases', 'Pain', 'Glaucoma', 'Hypertensive disease', 'Discharge, body substance', 'Heart Diseases', 'Chest pain on exertion', 'Pauci-immune Glomerulonephritis associated with Granulomatosis with Polyangiitis'], ['Chest Pain', 'Disease', 'Granulomatosis with polyangiitis', 'Gastroesophageal reflux disease', 'Peptic Ulcer', 'Vascular Diseases', 'Pain', 'Glaucoma', 'Hypertensive disease', 'Discharge, body substance', 'Heart Diseases', 'Chest pain on exertion', 'Pauci-immune Glomerulonephritis associated with Granulomatosis with Polyangiitis'], ['Pain', 'HIV Infections', 'Tricuspid Valve Insufficiency', 'Thrombocytopenia', 'Infantile Neuroaxonal Dystrophy', 'Blood Coagulation Disorders', 'Hypertensive disease', 'Disease', 'Congestive heart failure', 'Allergy to penicillin', 'Heparin-induced thrombocytopenia', 'Discharge, body substance'], ['Pericardial effusion', 'Tricuspid Valve Insufficiency', 'Chest Pain', 'Dyspnea', 'Cardiac Tamponade', 'Fever', 'Oral candidiasis', 'Osteomyelitis', 'Acquired Immunodeficiency Syndrome', 'Asthma', 'Candidiasis', 'Communicable Diseases', 'Myocardial Infarction', 'Infantile Neuroaxonal Dystrophy', 'SYNOVITIS, GRANULOMATOUS, WITH UVEITIS AND CRANIAL NEUROPATHIES (disorder)', 'Pneumocystis jiroveci pneumonia', 'Pain', 'Mucolipidosis Type IV', 'Cachexia', 'Myalgia', 'Transient Cerebral Ischemia', 'Transient Ischemic Attack', 'hiv-infection/aids', 'Arthralgia', 'Deep Vein Thrombosis', 'Scoliosis, unspecified', 'Left Ventricular Hypertrophy', 'Hepatitis B', 'Lethargy', 'Gout', 'Abscess', 'Cerebrovascular accident', 'Coughing', 'Gastritis', 'Hemoptysis', 'Nausea', 'Vomiting', 'Xanthoma', 'Discharge, body substance', 'Aortic Valve Insufficiency', 'Flushing', 'Equine thrush (disorder)', 'Anemia', 'Chills', 'Endocarditis', 'Crystal Arthropathies', 'Disease', 'Pancytopenia', 'Heart Failure, Right-Sided', 'Epididymitis', 'Ankle pain', 'Symptoms', 'Candidiasis of the esophagus', 'Feces color: tarry', 'Pain in calf', 'Red stools', 'Rigor - Temperature-associated observation', 'Stasis dermatitis', 'Idiopathic pulmonary arterial hypertension', 'Idiopathic pulmonary hypertension', 'Systolic hypertension, mild', 'Foot osteomyelitis', 'Nuclear non-senile cataract', 'Symptom of foot', 'Wasting', 'flail segment', 'Osteomyelitis of ankle', 'Anemia of chronic disease', 'exercise induced', 'Foot abscess', 'Infective bulbar necrosis', 'Acute bacterial endocarditis'], ['Myocardial Infarction', 'Degenerative polyarthritis', 'Hypertensive disease', 'Chronic Kidney Diseases', 'Chronic Kidney Insufficiency', 'Coronary Arteriosclerosis', 'Coronary Artery Disease', 'Kidney Failure', 'Peptic Ulcer', 'Renal Insufficiency', 'Headache', 'Poliomyelitis', 'Coronary heart disease', 'Macrophage Activation Syndrome', 'Urinary tract infection', 'Diabetes Mellitus', 'Lymphadenopathy', 'Disease', 'Edema', 'Bursitis', 'Agitation', 'Clouded consciousness', 'Paroxysmal atrial fibrillation', 'poor dentition', 'Early infantile epileptic encephalopathy with suppression bursts', 'Mass of body region', 'Lesion of brain', 'Secondary disease, NOS', 'Cellulitis of knee', 'SHORT STATURE, ONYCHODYSPLASIA, FACIAL DYSMORPHISM, AND HYPOTRICHOSIS SYNDROME', 'Discharge, body substance', 'Weakness', 'Diabetes', 'DYSFUNCTION - SKIN DISORDERS'], ['Dyspnea', 'Chronic Obstructive Airway Disease', 'Coughing', 'Hyponatremia', 'Chest Pain', 'Gout', 'Atrial Fibrillation', 'Pneumocystis jiroveci pneumonia', 'Cardiomyopathy, Dilated', 'Oliguria', 'Obesity', 'Hematochezia', 'Facial Hemiatrophy', 'Hypertensive disease', 'Heart failure', 'Chronic obstructive pulmonary disease of horses', 'Anuria', 'Diverticular disease of colon', 'Left Ventricular Hypertrophy', 'Muscle Cramp', 'Ketonuria', 'Tachycardia, Ventricular', 'Sleeplessness', 'Aortic Valve Insufficiency', 'Aortic Valve Stenosis', 'Nausea', 'Psoriasis', 'Tricuspid Valve Insufficiency', 'Wheezing', 'Xanthoma', 'Discharge, body substance', 'ABLEPHARON-MACROSTOMIA SYNDROME', 'Kidney Diseases', 'Constipation', 'Anemia', 'Cardiomyopathies', 'Disease', 'Fatigue', 'Pneumothorax', 'Congestive heart failure', 'Edema', 'Rhinitis', 'Nuclear non-senile cataract', 'Heart Diseases', 'Acute on chronic systolic heart failure', 'Acute-on-chronic renal failure', 'OPTIC ATROPHY WITH OR WITHOUT DEAFNESS, OPHTHALMOPLEGIA, MYOPATHY, ATAXIA, AND NEUROPATHY', 'Stasis dermatitis', 'Systolic hypertension, mild', 'Fever with chills', 'Blood in stool', 'Discomfort', 'SHORT STATURE, ONYCHODYSPLASIA, FACIAL DYSMORPHISM, AND HYPOTRICHOSIS SYNDROME', 'copd exacerbation', 'pulmonary edema interstitial', 'Lung consolidation', 'hyponatremic', 'LUSCAN-LUMISH SYNDROME'], ['Kidney Failure, Chronic', 'Dyspnea', 'Pain', 'Kidney Failure', 'Atrial Fibrillation', 'Erythema', 'Chronic Obstructive Airway Disease', 'Edema', 'Chest Pain', 'Obesity', 'Coughing', 'Discharge, body substance', 'Facial Hemiatrophy', 'Pleural effusion disorder', 'Dizziness', 'Lightheadedness', 'Diverticular disease of colon', 'Coronary Arteriosclerosis', 'Coronary Artery Disease', 'Tachycardia, Ventricular', 'Allergic rhinitis (disorder)', 'Deep Vein Thrombosis', 'Gout', 'Cryopyrin-Associated Periodic Syndromes', 'Pneumocystis jiroveci pneumonia', 'Wheezing', 'Chronic kidney disease stage 5', 'Congestive heart failure', 'Chronic obstructive pulmonary disease of horses', 'SYNOVITIS, GRANULOMATOUS, WITH UVEITIS AND CRANIAL NEUROPATHIES (disorder)', 'Leg Ulcer', 'Coronary heart disease', 'Psoriasis', 'Anemia', 'Disease', 'Pneumothorax', 'Pulmonary Edema', 'Skin Diseases, Infectious', 'Heart failure', 'Hypertensive disease', 'Pitting edema', 'Chronic ulcer', 'SHORT STATURE, ONYCHODYSPLASIA, FACIAL DYSMORPHISM, AND HYPOTRICHOSIS SYNDROME', 'Heart Diseases', 'Pain in calf', 'Disorder of implantable defibrillator', 'HEART PROBLEM', 'Blanching', 'Discomfort'], ['Pneumocystis jiroveci pneumonia', 'Left Ventricular Hypertrophy', 'Dizziness', 'Vertigo', 'Anal Fissure', 'Kidney Calculi', 'Crohn Disease', 'Atrial Fibrillation', 'Fever', 'Rheumatoid Arthritis', 'Diabetes Mellitus', 'Hematochezia', 'Chills', 'Disease', 'Hypertensive disease', 'Cirrhosis', 'Liver Cirrhosis', 'Blood Coagulation Disorders', 'Discharge, body substance', 'Nausea and vomiting', 'Gallstone pancreatitis', 'Diabetes', 'knee pain chronic', 'SHORT STATURE, ONYCHODYSPLASIA, FACIAL DYSMORPHISM, AND HYPOTRICHOSIS SYNDROME']]\n",
      "notes_data : 184\n",
      "notes_data : 185\n",
      "notes_data : 223\n",
      "notes_data : 224\n",
      "notes_data : 225\n",
      "notes_data : 226\n",
      "notes_data : 227\n",
      "notes_data : 228\n",
      "notes_data : 229\n",
      "notes_data : 230\n",
      "(10, 11)\n",
      "processing record : 30\n"
     ]
    }
   ],
   "source": [
    "record_processed = 0\n",
    "output_result = None\n",
    "chunk_size = 10\n",
    "# Add header to csv file\n",
    "with open(SYMPTOMS_FILE, 'w') as writer:\n",
    "    writer.write(\"INDEX,ROW_ID,SUBJECT_ID,HADM_ID,SYMPTOMS\\n\")\n",
    "    \n",
    "for chunk in pd.read_csv(DISCHARGE_SUMMARY, chunksize=chunk_size):\n",
    "    ret = process_chunk(chunk)\n",
    "    if not ret:\n",
    "        break"
   ]
  },
  {
   "cell_type": "markdown",
   "id": "09a41f5a",
   "metadata": {},
   "source": [
    "### Showing content of Output files"
   ]
  },
  {
   "cell_type": "code",
   "execution_count": 71,
   "id": "b38ad85e",
   "metadata": {},
   "outputs": [
    {
     "data": {
      "text/html": [
       "<div>\n",
       "<style scoped>\n",
       "    .dataframe tbody tr th:only-of-type {\n",
       "        vertical-align: middle;\n",
       "    }\n",
       "\n",
       "    .dataframe tbody tr th {\n",
       "        vertical-align: top;\n",
       "    }\n",
       "\n",
       "    .dataframe thead th {\n",
       "        text-align: right;\n",
       "    }\n",
       "</style>\n",
       "<table border=\"1\" class=\"dataframe\">\n",
       "  <thead>\n",
       "    <tr style=\"text-align: right;\">\n",
       "      <th></th>\n",
       "      <th>ROW_ID</th>\n",
       "      <th>SUBJECT_ID</th>\n",
       "      <th>HADM_ID</th>\n",
       "      <th>CHARTDATE</th>\n",
       "      <th>CHARTTIME</th>\n",
       "      <th>STORETIME</th>\n",
       "      <th>CATEGORY</th>\n",
       "      <th>DESCRIPTION</th>\n",
       "      <th>CGID</th>\n",
       "      <th>ISERROR</th>\n",
       "      <th>TEXT</th>\n",
       "    </tr>\n",
       "  </thead>\n",
       "  <tbody>\n",
       "    <tr>\n",
       "      <th>0</th>\n",
       "      <td>174</td>\n",
       "      <td>22532</td>\n",
       "      <td>167853.0</td>\n",
       "      <td>2151-08-04</td>\n",
       "      <td>NaN</td>\n",
       "      <td>NaN</td>\n",
       "      <td>Discharge summary</td>\n",
       "      <td>Report</td>\n",
       "      <td>NaN</td>\n",
       "      <td>NaN</td>\n",
       "      <td>Admission Date:  [**2151-7-16**]       Dischar...</td>\n",
       "    </tr>\n",
       "    <tr>\n",
       "      <th>1</th>\n",
       "      <td>175</td>\n",
       "      <td>13702</td>\n",
       "      <td>107527.0</td>\n",
       "      <td>2118-06-14</td>\n",
       "      <td>NaN</td>\n",
       "      <td>NaN</td>\n",
       "      <td>Discharge summary</td>\n",
       "      <td>Report</td>\n",
       "      <td>NaN</td>\n",
       "      <td>NaN</td>\n",
       "      <td>Admission Date:  [**2118-6-2**]       Discharg...</td>\n",
       "    </tr>\n",
       "    <tr>\n",
       "      <th>2</th>\n",
       "      <td>176</td>\n",
       "      <td>13702</td>\n",
       "      <td>167118.0</td>\n",
       "      <td>2119-05-25</td>\n",
       "      <td>NaN</td>\n",
       "      <td>NaN</td>\n",
       "      <td>Discharge summary</td>\n",
       "      <td>Report</td>\n",
       "      <td>NaN</td>\n",
       "      <td>NaN</td>\n",
       "      <td>Admission Date:  [**2119-5-4**]              D...</td>\n",
       "    </tr>\n",
       "    <tr>\n",
       "      <th>3</th>\n",
       "      <td>177</td>\n",
       "      <td>13702</td>\n",
       "      <td>196489.0</td>\n",
       "      <td>2124-08-18</td>\n",
       "      <td>NaN</td>\n",
       "      <td>NaN</td>\n",
       "      <td>Discharge summary</td>\n",
       "      <td>Report</td>\n",
       "      <td>NaN</td>\n",
       "      <td>NaN</td>\n",
       "      <td>Admission Date:  [**2124-7-21**]              ...</td>\n",
       "    </tr>\n",
       "    <tr>\n",
       "      <th>4</th>\n",
       "      <td>178</td>\n",
       "      <td>26880</td>\n",
       "      <td>135453.0</td>\n",
       "      <td>2162-03-25</td>\n",
       "      <td>NaN</td>\n",
       "      <td>NaN</td>\n",
       "      <td>Discharge summary</td>\n",
       "      <td>Report</td>\n",
       "      <td>NaN</td>\n",
       "      <td>NaN</td>\n",
       "      <td>Admission Date:  [**2162-3-3**]              D...</td>\n",
       "    </tr>\n",
       "  </tbody>\n",
       "</table>\n",
       "</div>"
      ],
      "text/plain": [
       "   ROW_ID  SUBJECT_ID   HADM_ID   CHARTDATE  CHARTTIME  STORETIME  \\\n",
       "0     174       22532  167853.0  2151-08-04        NaN        NaN   \n",
       "1     175       13702  107527.0  2118-06-14        NaN        NaN   \n",
       "2     176       13702  167118.0  2119-05-25        NaN        NaN   \n",
       "3     177       13702  196489.0  2124-08-18        NaN        NaN   \n",
       "4     178       26880  135453.0  2162-03-25        NaN        NaN   \n",
       "\n",
       "            CATEGORY DESCRIPTION  CGID  ISERROR  \\\n",
       "0  Discharge summary      Report   NaN      NaN   \n",
       "1  Discharge summary      Report   NaN      NaN   \n",
       "2  Discharge summary      Report   NaN      NaN   \n",
       "3  Discharge summary      Report   NaN      NaN   \n",
       "4  Discharge summary      Report   NaN      NaN   \n",
       "\n",
       "                                                TEXT  \n",
       "0  Admission Date:  [**2151-7-16**]       Dischar...  \n",
       "1  Admission Date:  [**2118-6-2**]       Discharg...  \n",
       "2  Admission Date:  [**2119-5-4**]              D...  \n",
       "3  Admission Date:  [**2124-7-21**]              ...  \n",
       "4  Admission Date:  [**2162-3-3**]              D...  "
      ]
     },
     "execution_count": 71,
     "metadata": {},
     "output_type": "execute_result"
    }
   ],
   "source": [
    "notes_data = pd.read_csv(DISCHARGE_SUMMARY)\n",
    "notes_data.head()"
   ]
  },
  {
   "cell_type": "code",
   "execution_count": 70,
   "id": "03343f82",
   "metadata": {},
   "outputs": [
    {
     "data": {
      "text/html": [
       "<div>\n",
       "<style scoped>\n",
       "    .dataframe tbody tr th:only-of-type {\n",
       "        vertical-align: middle;\n",
       "    }\n",
       "\n",
       "    .dataframe tbody tr th {\n",
       "        vertical-align: top;\n",
       "    }\n",
       "\n",
       "    .dataframe thead th {\n",
       "        text-align: right;\n",
       "    }\n",
       "</style>\n",
       "<table border=\"1\" class=\"dataframe\">\n",
       "  <thead>\n",
       "    <tr style=\"text-align: right;\">\n",
       "      <th></th>\n",
       "      <th>INDEX</th>\n",
       "      <th>ROW_ID</th>\n",
       "      <th>SUBJECT_ID</th>\n",
       "      <th>HADM_ID</th>\n",
       "      <th>SYMPTOMS</th>\n",
       "    </tr>\n",
       "  </thead>\n",
       "  <tbody>\n",
       "    <tr>\n",
       "      <th>0</th>\n",
       "      <td>174</td>\n",
       "      <td>22532</td>\n",
       "      <td>167853.0</td>\n",
       "      <td>2151-08-04</td>\n",
       "      <td>Tuberculosis|Osteoporosis|Pleural effusion dis...</td>\n",
       "    </tr>\n",
       "    <tr>\n",
       "      <th>1</th>\n",
       "      <td>175</td>\n",
       "      <td>13702</td>\n",
       "      <td>107527.0</td>\n",
       "      <td>2118-06-14</td>\n",
       "      <td>Leukocytosis|Muscle Weakness|Paresis|Dyspnea|A...</td>\n",
       "    </tr>\n",
       "    <tr>\n",
       "      <th>2</th>\n",
       "      <td>176</td>\n",
       "      <td>13702</td>\n",
       "      <td>167118.0</td>\n",
       "      <td>2119-05-25</td>\n",
       "      <td>Chronic Obstructive Airway Disease|Deep Vein T...</td>\n",
       "    </tr>\n",
       "    <tr>\n",
       "      <th>3</th>\n",
       "      <td>177</td>\n",
       "      <td>13702</td>\n",
       "      <td>196489.0</td>\n",
       "      <td>2124-08-18</td>\n",
       "      <td>Dyspnea|Chronic Obstructive Airway Disease|Hia...</td>\n",
       "    </tr>\n",
       "    <tr>\n",
       "      <th>4</th>\n",
       "      <td>178</td>\n",
       "      <td>26880</td>\n",
       "      <td>135453.0</td>\n",
       "      <td>2162-03-25</td>\n",
       "      <td>Encephalomalacia|Pain|Obesity|Aspiration Pneum...</td>\n",
       "    </tr>\n",
       "  </tbody>\n",
       "</table>\n",
       "</div>"
      ],
      "text/plain": [
       "   INDEX  ROW_ID  SUBJECT_ID     HADM_ID  \\\n",
       "0    174   22532    167853.0  2151-08-04   \n",
       "1    175   13702    107527.0  2118-06-14   \n",
       "2    176   13702    167118.0  2119-05-25   \n",
       "3    177   13702    196489.0  2124-08-18   \n",
       "4    178   26880    135453.0  2162-03-25   \n",
       "\n",
       "                                            SYMPTOMS  \n",
       "0  Tuberculosis|Osteoporosis|Pleural effusion dis...  \n",
       "1  Leukocytosis|Muscle Weakness|Paresis|Dyspnea|A...  \n",
       "2  Chronic Obstructive Airway Disease|Deep Vein T...  \n",
       "3  Dyspnea|Chronic Obstructive Airway Disease|Hia...  \n",
       "4  Encephalomalacia|Pain|Obesity|Aspiration Pneum...  "
      ]
     },
     "execution_count": 70,
     "metadata": {},
     "output_type": "execute_result"
    }
   ],
   "source": [
    "symptoms_extracted = pd.read_csv(SYMPTOMS_FILE)\n",
    "symptoms_extracted.head()"
   ]
  }
 ],
 "metadata": {
  "kernelspec": {
   "display_name": "Python 3 (ipykernel)",
   "language": "python",
   "name": "python3"
  },
  "language_info": {
   "codemirror_mode": {
    "name": "ipython",
    "version": 3
   },
   "file_extension": ".py",
   "mimetype": "text/x-python",
   "name": "python",
   "nbconvert_exporter": "python",
   "pygments_lexer": "ipython3",
   "version": "3.8.6"
  }
 },
 "nbformat": 4,
 "nbformat_minor": 5
}
