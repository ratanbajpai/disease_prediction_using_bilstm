{
 "cells": [
  {
   "cell_type": "markdown",
   "metadata": {},
   "source": [
    "# Data Prep For Training Word2Vec NN Model\n",
    "\n",
    "Here we will prepare the input dataset(X, Y) which will be used for training a NN model using Word2Vec representations."
   ]
  },
  {
   "cell_type": "code",
   "execution_count": 1,
   "metadata": {},
   "outputs": [],
   "source": [
    "import pandas as pd\n",
    "import os\n",
    "import numpy as np\n",
    "import json"
   ]
  },
  {
   "cell_type": "markdown",
   "metadata": {},
   "source": [
    "### Load Symptoms and Diagnoses Data\n",
    "\n",
    "Here we will load symptoms extracted from the discharge summary notes using MetaMap. Also we will load the DIAGNOSES table which contains patient diagnosis for each hospital admission in the MIMIC III dataset."
   ]
  },
  {
   "cell_type": "code",
   "execution_count": 2,
   "metadata": {},
   "outputs": [
    {
     "name": "stdout",
     "output_type": "stream",
     "text": [
      "Current working directory : /Users/ratanbajpai/Education/UIUC/DLH/project/src\n",
      "Data directory : /Users/ratanbajpai/Education/UIUC/DLH/project/src/../data/\n",
      "Total discharge notes with symptoms extracted:  59651\n"
     ]
    },
    {
     "data": {
      "text/html": [
       "<div>\n",
       "<style scoped>\n",
       "    .dataframe tbody tr th:only-of-type {\n",
       "        vertical-align: middle;\n",
       "    }\n",
       "\n",
       "    .dataframe tbody tr th {\n",
       "        vertical-align: top;\n",
       "    }\n",
       "\n",
       "    .dataframe thead th {\n",
       "        text-align: right;\n",
       "    }\n",
       "</style>\n",
       "<table border=\"1\" class=\"dataframe\">\n",
       "  <thead>\n",
       "    <tr style=\"text-align: right;\">\n",
       "      <th></th>\n",
       "      <th>INDEX</th>\n",
       "      <th>ROW_ID</th>\n",
       "      <th>SUBJECT_ID</th>\n",
       "      <th>HADM_ID</th>\n",
       "      <th>SYMPTOMS</th>\n",
       "    </tr>\n",
       "  </thead>\n",
       "  <tbody>\n",
       "    <tr>\n",
       "      <th>0</th>\n",
       "      <td>61</td>\n",
       "      <td>208</td>\n",
       "      <td>5239</td>\n",
       "      <td>125055.0</td>\n",
       "      <td>Autoimmune hemolytic anemia|Dyspnea|Congestive...</td>\n",
       "    </tr>\n",
       "    <tr>\n",
       "      <th>1</th>\n",
       "      <td>62</td>\n",
       "      <td>209</td>\n",
       "      <td>5239</td>\n",
       "      <td>125055.0</td>\n",
       "      <td>Hydrocephalus  Normal Pressure|Congestive hear...</td>\n",
       "    </tr>\n",
       "    <tr>\n",
       "      <th>2</th>\n",
       "      <td>63</td>\n",
       "      <td>210</td>\n",
       "      <td>21449</td>\n",
       "      <td>139542.0</td>\n",
       "      <td>Acute Chest Syndrome|Hypertensive disease|Hype...</td>\n",
       "    </tr>\n",
       "    <tr>\n",
       "      <th>3</th>\n",
       "      <td>64</td>\n",
       "      <td>211</td>\n",
       "      <td>40273</td>\n",
       "      <td>124821.0</td>\n",
       "      <td>Obesity|Chronic Kidney Diseases|Hypertensive d...</td>\n",
       "    </tr>\n",
       "    <tr>\n",
       "      <th>4</th>\n",
       "      <td>65</td>\n",
       "      <td>212</td>\n",
       "      <td>76874</td>\n",
       "      <td>113329.0</td>\n",
       "      <td>Benign Rolandic Epilepsy|Sleeplessness|Familia...</td>\n",
       "    </tr>\n",
       "  </tbody>\n",
       "</table>\n",
       "</div>"
      ],
      "text/plain": [
       "   INDEX  ROW_ID  SUBJECT_ID   HADM_ID  \\\n",
       "0     61     208        5239  125055.0   \n",
       "1     62     209        5239  125055.0   \n",
       "2     63     210       21449  139542.0   \n",
       "3     64     211       40273  124821.0   \n",
       "4     65     212       76874  113329.0   \n",
       "\n",
       "                                            SYMPTOMS  \n",
       "0  Autoimmune hemolytic anemia|Dyspnea|Congestive...  \n",
       "1  Hydrocephalus  Normal Pressure|Congestive hear...  \n",
       "2  Acute Chest Syndrome|Hypertensive disease|Hype...  \n",
       "3  Obesity|Chronic Kidney Diseases|Hypertensive d...  \n",
       "4  Benign Rolandic Epilepsy|Sleeplessness|Familia...  "
      ]
     },
     "execution_count": 2,
     "metadata": {},
     "output_type": "execute_result"
    }
   ],
   "source": [
    "cwd = os.getcwd()\n",
    "data_dir = cwd + \"/../data/\"\n",
    "print(f\"Current working directory : {cwd}\")\n",
    "print(f\"Data directory : {data_dir}\")\n",
    "\n",
    "# Load the symptoms data extracted by MetaMap\n",
    "# TODO replace this file with the latest extracted file with all data from M\n",
    "symptoms_df = pd.read_csv(data_dir + \"symptoms.csv\")\n",
    "print('Total discharge notes with symptoms extracted: ', len(symptoms_df.index))\n",
    "symptoms_df.head()"
   ]
  },
  {
   "cell_type": "code",
   "execution_count": 3,
   "metadata": {},
   "outputs": [
    {
     "data": {
      "text/html": [
       "<div>\n",
       "<style scoped>\n",
       "    .dataframe tbody tr th:only-of-type {\n",
       "        vertical-align: middle;\n",
       "    }\n",
       "\n",
       "    .dataframe tbody tr th {\n",
       "        vertical-align: top;\n",
       "    }\n",
       "\n",
       "    .dataframe thead th {\n",
       "        text-align: right;\n",
       "    }\n",
       "</style>\n",
       "<table border=\"1\" class=\"dataframe\">\n",
       "  <thead>\n",
       "    <tr style=\"text-align: right;\">\n",
       "      <th></th>\n",
       "      <th>SUBJECT_ID</th>\n",
       "      <th>HADM_ID</th>\n",
       "      <th>ICD9_3CHAR</th>\n",
       "    </tr>\n",
       "  </thead>\n",
       "  <tbody>\n",
       "    <tr>\n",
       "      <th>0</th>\n",
       "      <td>109</td>\n",
       "      <td>172335</td>\n",
       "      <td>403</td>\n",
       "    </tr>\n",
       "    <tr>\n",
       "      <th>1</th>\n",
       "      <td>109</td>\n",
       "      <td>172335</td>\n",
       "      <td>486</td>\n",
       "    </tr>\n",
       "    <tr>\n",
       "      <th>2</th>\n",
       "      <td>109</td>\n",
       "      <td>172335</td>\n",
       "      <td>582</td>\n",
       "    </tr>\n",
       "    <tr>\n",
       "      <th>3</th>\n",
       "      <td>109</td>\n",
       "      <td>172335</td>\n",
       "      <td>585</td>\n",
       "    </tr>\n",
       "    <tr>\n",
       "      <th>4</th>\n",
       "      <td>109</td>\n",
       "      <td>172335</td>\n",
       "      <td>425</td>\n",
       "    </tr>\n",
       "  </tbody>\n",
       "</table>\n",
       "</div>"
      ],
      "text/plain": [
       "   SUBJECT_ID  HADM_ID ICD9_3CHAR\n",
       "0         109   172335        403\n",
       "1         109   172335        486\n",
       "2         109   172335        582\n",
       "3         109   172335        585\n",
       "4         109   172335        425"
      ]
     },
     "execution_count": 3,
     "metadata": {},
     "output_type": "execute_result"
    }
   ],
   "source": [
    "# Load the table that has the dignosis codes for each hospital visit for a patient\n",
    "diagnoses_df = pd.read_csv(data_dir + \"DIAGNOSES_ICD.csv\")\n",
    "# We will just take the first three digits of the ICD code and not worry about sub-diseases\n",
    "diagnoses_df['ICD9_3CHAR'] = diagnoses_df['ICD9_CODE'].str[:3]\n",
    "\n",
    "# Use only needed columns, and drop others\n",
    "diagnoses_df = diagnoses_df.drop([\"ICD9_CODE\", \"SEQ_NUM\", \"ROW_ID\"], axis=1)\n",
    "diagnoses_df = diagnoses_df.drop_duplicates()\n",
    "diagnoses_df.head()"
   ]
  },
  {
   "cell_type": "markdown",
   "metadata": {},
   "source": [
    "### Join Symptoms and Diagnosis\n",
    "\n",
    "Here we will join the symptoms and dignoses tables on the hospital admission ID (HADM_ID). So now we will have information on what sysmptoms led to what disease diagnosis for each hospital admission for the patient."
   ]
  },
  {
   "cell_type": "code",
   "execution_count": 4,
   "metadata": {},
   "outputs": [
    {
     "name": "stdout",
     "output_type": "stream",
     "text": [
      "symp_diagnoses.shape : (618695, 4)\n",
      "disease_count.shape : (941,)\n"
     ]
    },
    {
     "data": {
      "text/html": [
       "<div>\n",
       "<style scoped>\n",
       "    .dataframe tbody tr th:only-of-type {\n",
       "        vertical-align: middle;\n",
       "    }\n",
       "\n",
       "    .dataframe tbody tr th {\n",
       "        vertical-align: top;\n",
       "    }\n",
       "\n",
       "    .dataframe thead th {\n",
       "        text-align: right;\n",
       "    }\n",
       "</style>\n",
       "<table border=\"1\" class=\"dataframe\">\n",
       "  <thead>\n",
       "    <tr style=\"text-align: right;\">\n",
       "      <th></th>\n",
       "      <th>SUBJECT_ID</th>\n",
       "      <th>HADM_ID</th>\n",
       "      <th>SYMPTOMS</th>\n",
       "      <th>ICD9_3CHAR</th>\n",
       "    </tr>\n",
       "  </thead>\n",
       "  <tbody>\n",
       "    <tr>\n",
       "      <th>0</th>\n",
       "      <td>58526</td>\n",
       "      <td>100001</td>\n",
       "      <td>Diabetic Ketoacidosis|Vomiting|Hypertensive di...</td>\n",
       "      <td>250</td>\n",
       "    </tr>\n",
       "    <tr>\n",
       "      <th>1</th>\n",
       "      <td>58526</td>\n",
       "      <td>100001</td>\n",
       "      <td>Diabetic Ketoacidosis|Vomiting|Hypertensive di...</td>\n",
       "      <td>337</td>\n",
       "    </tr>\n",
       "    <tr>\n",
       "      <th>2</th>\n",
       "      <td>58526</td>\n",
       "      <td>100001</td>\n",
       "      <td>Diabetic Ketoacidosis|Vomiting|Hypertensive di...</td>\n",
       "      <td>584</td>\n",
       "    </tr>\n",
       "    <tr>\n",
       "      <th>3</th>\n",
       "      <td>58526</td>\n",
       "      <td>100001</td>\n",
       "      <td>Diabetic Ketoacidosis|Vomiting|Hypertensive di...</td>\n",
       "      <td>578</td>\n",
       "    </tr>\n",
       "    <tr>\n",
       "      <th>4</th>\n",
       "      <td>58526</td>\n",
       "      <td>100001</td>\n",
       "      <td>Diabetic Ketoacidosis|Vomiting|Hypertensive di...</td>\n",
       "      <td>V58</td>\n",
       "    </tr>\n",
       "  </tbody>\n",
       "</table>\n",
       "</div>"
      ],
      "text/plain": [
       "   SUBJECT_ID  HADM_ID                                           SYMPTOMS  \\\n",
       "0       58526   100001  Diabetic Ketoacidosis|Vomiting|Hypertensive di...   \n",
       "1       58526   100001  Diabetic Ketoacidosis|Vomiting|Hypertensive di...   \n",
       "2       58526   100001  Diabetic Ketoacidosis|Vomiting|Hypertensive di...   \n",
       "3       58526   100001  Diabetic Ketoacidosis|Vomiting|Hypertensive di...   \n",
       "4       58526   100001  Diabetic Ketoacidosis|Vomiting|Hypertensive di...   \n",
       "\n",
       "  ICD9_3CHAR  \n",
       "0        250  \n",
       "1        337  \n",
       "2        584  \n",
       "3        578  \n",
       "4        V58  "
      ]
     },
     "execution_count": 4,
     "metadata": {},
     "output_type": "execute_result"
    }
   ],
   "source": [
    "# Join symptoms and disease data frames\n",
    "symp_diag_df = symptoms_df.set_index('HADM_ID').join(diagnoses_df.set_index('HADM_ID'), lsuffix='_symp', rsuffix='_diag')\n",
    "symp_diag_df = symp_diag_df.reset_index()\n",
    "\n",
    "# Rename the subject ID column and take only needed columns\n",
    "symp_diag_df.rename(columns={'SUBJECT_ID_symp': 'SUBJECT_ID'}, inplace=True)\n",
    "symp_diag_df = symp_diag_df[['SUBJECT_ID', 'HADM_ID', 'SYMPTOMS', 'ICD9_3CHAR']]\n",
    "\n",
    "# Drop duplicates and filter out NAN rows for HADM_ID\n",
    "symp_diag_df = symp_diag_df.drop_duplicates()\n",
    "symp_diag_df = symp_diag_df[symp_diag_df['HADM_ID'].notnull()]\n",
    "\n",
    "# Convert the HADM_ID column to int\n",
    "symp_diag_df.HADM_ID = symp_diag_df.HADM_ID.astype(int)\n",
    "print(f\"symp_diagnoses.shape : {symp_diag_df.shape}\")\n",
    "\n",
    "# Group by disease count and count the number of unique diseases\n",
    "# Note: here we get count as 936, the paper has the total count as 931\n",
    "disease_count = symp_diag_df.groupby(['ICD9_3CHAR'])['ICD9_3CHAR'].count()\n",
    "print(f\"disease_count.shape : {disease_count.shape}\")\n",
    "symp_diag_df.head()"
   ]
  },
  {
   "cell_type": "markdown",
   "metadata": {},
   "source": [
    "### Filter Top 50 Diseases and Related Symptoms in the Notes"
   ]
  },
  {
   "cell_type": "code",
   "execution_count": 5,
   "metadata": {},
   "outputs": [
    {
     "name": "stdout",
     "output_type": "stream",
     "text": [
      "top_50_diagnoses.shape : (50,)\n"
     ]
    },
    {
     "data": {
      "text/plain": [
       "ICD9_3CHAR\n",
       "401    22391\n",
       "427    18651\n",
       "276    16015\n",
       "414    15459\n",
       "272    15256\n",
       "Name: ICD9_3CHAR, dtype: int64"
      ]
     },
     "execution_count": 5,
     "metadata": {},
     "output_type": "execute_result"
    }
   ],
   "source": [
    "n = 50\n",
    "top_diag_df = symp_diag_df.groupby(['ICD9_3CHAR'])['ICD9_3CHAR'].count().sort_values(ascending=False)\n",
    "# taking only top 50 diseases\n",
    "top_n_diag_df = top_diag_df[:n]\n",
    "print(f\"top_50_diagnoses.shape : {top_n_diag_df.shape}\")\n",
    "top_n_diag_df.head()"
   ]
  },
  {
   "cell_type": "code",
   "execution_count": 6,
   "metadata": {},
   "outputs": [
    {
     "name": "stdout",
     "output_type": "stream",
     "text": [
      "Index(['401', '427', '276', '414', '272', '250', '428', '518', '285', '584',\n",
      "       'V45', '599', '530', 'V58', '585', 'E87', '038', '403', 'V10', '424',\n",
      "       '410', '780', '997', '995', '998', '244', '785', '305', '458', '486',\n",
      "       '996', '041', '496', 'V15', '287', '507', '790', 'V12', 'E93', '493',\n",
      "       '511', '311', '707', '412', '348', '765', 'E88', '571', '300', '733'],\n",
      "      dtype='object', name='ICD9_3CHAR')\n"
     ]
    }
   ],
   "source": [
    "print(top_n_diag_df.index)"
   ]
  },
  {
   "cell_type": "code",
   "execution_count": 7,
   "metadata": {},
   "outputs": [
    {
     "name": "stdout",
     "output_type": "stream",
     "text": [
      "symp_diag_df.shape : (618695, 4)\n",
      "symp_diag_top_n_df.shape : (361945, 4)\n"
     ]
    },
    {
     "name": "stderr",
     "output_type": "stream",
     "text": [
      "/opt/homebrew/anaconda3/lib/python3.8/site-packages/pandas/core/generic.py:5168: SettingWithCopyWarning: \n",
      "A value is trying to be set on a copy of a slice from a DataFrame.\n",
      "Try using .loc[row_indexer,col_indexer] = value instead\n",
      "\n",
      "See the caveats in the documentation: https://pandas.pydata.org/pandas-docs/stable/user_guide/indexing.html#returning-a-view-versus-a-copy\n",
      "  self[name] = value\n"
     ]
    },
    {
     "data": {
      "text/html": [
       "<div>\n",
       "<style scoped>\n",
       "    .dataframe tbody tr th:only-of-type {\n",
       "        vertical-align: middle;\n",
       "    }\n",
       "\n",
       "    .dataframe tbody tr th {\n",
       "        vertical-align: top;\n",
       "    }\n",
       "\n",
       "    .dataframe thead th {\n",
       "        text-align: right;\n",
       "    }\n",
       "</style>\n",
       "<table border=\"1\" class=\"dataframe\">\n",
       "  <thead>\n",
       "    <tr style=\"text-align: right;\">\n",
       "      <th></th>\n",
       "      <th>index</th>\n",
       "      <th>SUBJECT_ID</th>\n",
       "      <th>HADM_ID</th>\n",
       "      <th>SYMPTOMS</th>\n",
       "      <th>ICD9_3CHAR</th>\n",
       "    </tr>\n",
       "  </thead>\n",
       "  <tbody>\n",
       "    <tr>\n",
       "      <th>0</th>\n",
       "      <td>0</td>\n",
       "      <td>58526</td>\n",
       "      <td>100001</td>\n",
       "      <td>Diabetic Ketoacidosis|Vomiting|Hypertensive di...</td>\n",
       "      <td>250</td>\n",
       "    </tr>\n",
       "    <tr>\n",
       "      <th>1</th>\n",
       "      <td>2</td>\n",
       "      <td>58526</td>\n",
       "      <td>100001</td>\n",
       "      <td>Diabetic Ketoacidosis|Vomiting|Hypertensive di...</td>\n",
       "      <td>584</td>\n",
       "    </tr>\n",
       "    <tr>\n",
       "      <th>2</th>\n",
       "      <td>4</td>\n",
       "      <td>58526</td>\n",
       "      <td>100001</td>\n",
       "      <td>Diabetic Ketoacidosis|Vomiting|Hypertensive di...</td>\n",
       "      <td>V58</td>\n",
       "    </tr>\n",
       "    <tr>\n",
       "      <th>3</th>\n",
       "      <td>6</td>\n",
       "      <td>58526</td>\n",
       "      <td>100001</td>\n",
       "      <td>Diabetic Ketoacidosis|Vomiting|Hypertensive di...</td>\n",
       "      <td>458</td>\n",
       "    </tr>\n",
       "    <tr>\n",
       "      <th>4</th>\n",
       "      <td>7</td>\n",
       "      <td>58526</td>\n",
       "      <td>100001</td>\n",
       "      <td>Diabetic Ketoacidosis|Vomiting|Hypertensive di...</td>\n",
       "      <td>403</td>\n",
       "    </tr>\n",
       "  </tbody>\n",
       "</table>\n",
       "</div>"
      ],
      "text/plain": [
       "   index  SUBJECT_ID  HADM_ID  \\\n",
       "0      0       58526   100001   \n",
       "1      2       58526   100001   \n",
       "2      4       58526   100001   \n",
       "3      6       58526   100001   \n",
       "4      7       58526   100001   \n",
       "\n",
       "                                            SYMPTOMS ICD9_3CHAR  \n",
       "0  Diabetic Ketoacidosis|Vomiting|Hypertensive di...        250  \n",
       "1  Diabetic Ketoacidosis|Vomiting|Hypertensive di...        584  \n",
       "2  Diabetic Ketoacidosis|Vomiting|Hypertensive di...        V58  \n",
       "3  Diabetic Ketoacidosis|Vomiting|Hypertensive di...        458  \n",
       "4  Diabetic Ketoacidosis|Vomiting|Hypertensive di...        403  "
      ]
     },
     "execution_count": 7,
     "metadata": {},
     "output_type": "execute_result"
    }
   ],
   "source": [
    "# Filter symptom data which corresponds to top 50 diseases\n",
    "print(f\"symp_diag_df.shape : {symp_diag_df.shape}\")\n",
    "symp_diag_top_n_df = symp_diag_df[symp_diag_df.ICD9_3CHAR.isin(top_n_diag_df.index)]\n",
    "print(f\"symp_diag_top_n_df.shape : {symp_diag_top_n_df.shape}\")\n",
    "symp_diag_top_n_df.SYMPTOMS = symp_diag_top_n_df.SYMPTOMS.astype(str)\n",
    "symp_diag_top_n_df = symp_diag_top_n_df.reset_index() \n",
    "symp_diag_top_n_df.head()"
   ]
  },
  {
   "cell_type": "markdown",
   "metadata": {},
   "source": [
    "### Filter Symptoms and Create HADM_ID <-> Symptom Indices Map"
   ]
  },
  {
   "cell_type": "code",
   "execution_count": 8,
   "metadata": {},
   "outputs": [
    {
     "name": "stdout",
     "output_type": "stream",
     "text": [
      "total unique symptoms : 3990\n"
     ]
    }
   ],
   "source": [
    "IGNORE_SYMPTOMS = [\"disease\", \"symptoms\", \"signs and symptoms\", \"communicable diseases\", \"symptom\", \"diseases\"]\n",
    "# Dictionary which contains the index of the symptom as well as total count across all discharge notes\n",
    "symptom_total_count_dict = {}\n",
    "# HADM_ID set to keep track of duplicate processing\n",
    "hadm_id_set = set()\n",
    "# This loop is to collect all symptoms, assign them id, and their total count\n",
    "for index, record in symp_diag_top_n_df.iterrows():\n",
    "    # Get hadm_id\n",
    "    hadm_id = record['HADM_ID']\n",
    "    # Skip if we have already processed this hadm_id\n",
    "    if hadm_id in hadm_id_set:\n",
    "        continue\n",
    "    else:\n",
    "        # Add this hadm_id as processed\n",
    "        hadm_id_set.add(hadm_id)\n",
    "    \n",
    "    symp_list = record['SYMPTOMS'].split(\"|\")\n",
    "    # only consider notes with symptoms count more than 1\n",
    "    if len(symp_list) > 1:\n",
    "        for symptom in symp_list:        \n",
    "            if symptom not in symptom_total_count_dict:\n",
    "                symptom_total_count_dict[symptom] = 1\n",
    "            else:\n",
    "                symptom_total_count_dict[symptom] += 1\n",
    "    \n",
    "# In this loop we will filter symptoms based on IGNORE_SYMPTOMS and those with frequency < 10\n",
    "filtered_symptom_dict = {}\n",
    "# A hadm_id to symptom index map, which has for each hadm_id what are the associated symptom indices\n",
    "hadm_symp_map = {}\n",
    "symptom_index = 0\n",
    "for index, record in symp_diag_top_n_df.iterrows():\n",
    "    # Get hadm_id\n",
    "    hadm_id = record['HADM_ID']\n",
    "    symp_index_list = []\n",
    "    # Skip if we have already processed this hadm_id\n",
    "    if hadm_id in hadm_symp_map:\n",
    "        continue\n",
    "    \n",
    "    symp_list = record['SYMPTOMS'].split(\"|\")\n",
    "    # only consider notes with symptoms count more than 1\n",
    "    if len(symp_list) > 1:\n",
    "        for symptom in symp_list:\n",
    "            # Filter symtoms in ignore list and those which total frequency < 10\n",
    "            if symptom.lower() in IGNORE_SYMPTOMS or symptom_total_count_dict[symptom] < 10:\n",
    "                continue\n",
    "            \n",
    "            # Assign an index to the filtered symptom if it does not already have one\n",
    "            if symptom not in filtered_symptom_dict:\n",
    "                filtered_symptom_dict[symptom] = symptom_index\n",
    "                symptom_index += 1\n",
    "            # This is a list of symptom indices for a particular hadm_id\n",
    "            symp_index_list.append(filtered_symptom_dict[symptom])\n",
    "    hadm_symp_map[hadm_id] = symp_index_list\n",
    "\n",
    "# Total number of symptoms\n",
    "number_of_symptoms = len(filtered_symptom_dict)\n",
    "            \n",
    "print(f\"total unique symptoms : {number_of_symptoms}\")\n",
    "# filtered_symptom_dict"
   ]
  },
  {
   "cell_type": "markdown",
   "metadata": {},
   "source": [
    "### Create Symptoms <-> Diseases Mapping for each HADM_ID"
   ]
  },
  {
   "cell_type": "code",
   "execution_count": 88,
   "metadata": {},
   "outputs": [
    {
     "data": {
      "text/plain": [
       "43651"
      ]
     },
     "execution_count": 88,
     "metadata": {},
     "output_type": "execute_result"
    }
   ],
   "source": [
    "# Create a dictionary of HADM_ID -> {symptoms[], diseases[]}\n",
    "# These will become the inputs and outputs when training the neural network\n",
    "\n",
    "symptom_disease_dict = {}\n",
    "# print(len(symp_diag_top_n_df))\n",
    "\n",
    "# For each record in the dataframe, we have multiple rows with same HADM_ID and symptom list\n",
    "# but the diseases for that HADM_ID are listed in separate rows. Here we will collect those diseases\n",
    "# so that for each hospital admission, we have symptoms and diseases in one place, i.e. a tuple of\n",
    "# <symptom_list, disease_list>.\n",
    "for index, record in symp_diag_top_n_df.iterrows():\n",
    "    hadm_id = record['HADM_ID']\n",
    "    # Check if this id exists in the dictionary\n",
    "    if hadm_id in symptom_disease_dict.keys():\n",
    "        # Get symptoms, diseases tuple from the dictionary\n",
    "        symp_disease_tuple = symptom_disease_dict.get(hadm_id)\n",
    "        # Get the disease list\n",
    "        disease_list = symp_disease_tuple[1]\n",
    "        # Add this disease ICD code to the list of diseases for this HADM_ID\n",
    "        # i.e. collect diseases for this HADM_ID\n",
    "        disease_list.append(record['ICD9_3CHAR'])\n",
    "    elif hadm_id not in symptom_disease_dict.keys():\n",
    "        # Create the value entry for this hadm_id key\n",
    "        symp_list = record['SYMPTOMS'].split(\"|\")\n",
    "        # For notes containing more than 1 symptom\n",
    "        if len(symp_list) > 1:\n",
    "            disease_list = []\n",
    "            disease_list.append(record['ICD9_3CHAR'])\n",
    "            symptom_disease_dict[hadm_id] = (symp_list, disease_list)\n",
    "\n",
    "# We will have to sort the symptom list based on frequency of occurrence for the diseases in the diseases list\n",
    "len(symptom_disease_dict)"
   ]
  },
  {
   "cell_type": "markdown",
   "metadata": {},
   "source": [
    "### Save the Disease Index and Symptom <-> Disease Mapping to Files"
   ]
  },
  {
   "cell_type": "code",
   "execution_count": 91,
   "metadata": {},
   "outputs": [],
   "source": [
    "# Save the symptom disease dictionary to a file\n",
    "with open(data_dir + \"symptom_disease_dict.csv\", 'w') as f:\n",
    "    json.dump(symptom_disease_dict, f)"
   ]
  },
  {
   "cell_type": "code",
   "execution_count": 90,
   "metadata": {},
   "outputs": [],
   "source": [
    "# Save ICD9 code to index mapping in a dictionary\n",
    "icd9_dict = {}\n",
    "for i, item in enumerate(top_n_diag_df.index):\n",
    "    icd9_dict[item] = i\n",
    "# print(icd9_dict)\n",
    "\n",
    "# Save the diagnoses to index mapping dictionary to a file\n",
    "with open(data_dir + \"icd9_dict.csv\", 'w') as f:\n",
    "    json.dump(icd9_dict, f)"
   ]
  },
  {
   "cell_type": "code",
   "execution_count": null,
   "metadata": {},
   "outputs": [],
   "source": []
  }
 ],
 "metadata": {
  "kernelspec": {
   "display_name": "Python 3",
   "language": "python",
   "name": "python3"
  },
  "language_info": {
   "codemirror_mode": {
    "name": "ipython",
    "version": 3
   },
   "file_extension": ".py",
   "mimetype": "text/x-python",
   "name": "python",
   "nbconvert_exporter": "python",
   "pygments_lexer": "ipython3",
   "version": "3.8.5"
  }
 },
 "nbformat": 4,
 "nbformat_minor": 4
}
